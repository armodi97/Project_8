{
 "cells": [
  {
   "cell_type": "markdown",
   "metadata": {},
   "source": [
    "## INTRODUCCIÓN Y DESCARGA DE DATOS\n"
   ]
  },
  {
   "cell_type": "code",
   "execution_count": 1,
   "metadata": {},
   "outputs": [],
   "source": [
    "#pip install plotly_express"
   ]
  },
  {
   "cell_type": "code",
   "execution_count": 2,
   "metadata": {},
   "outputs": [],
   "source": [
    "# Importamos las librerías y clases necesarias\n",
    "import pandas as pd\n",
    "import numpy as np\n",
    "from sklearn.utils import shuffle\n",
    "from sklearn.metrics import f1_score, roc_auc_score, roc_curve\n",
    "from sklearn.ensemble import RandomForestClassifier\n",
    "from sklearn.linear_model import LogisticRegression\n",
    "from sklearn.preprocessing import OrdinalEncoder, StandardScaler\n",
    "from sklearn.model_selection import train_test_split\n",
    "import matplotlib.pyplot as plt\n",
    "import plotly.express as px\n",
    "\n",
    "\n"
   ]
  },
  {
   "cell_type": "code",
   "execution_count": 3,
   "metadata": {},
   "outputs": [
    {
     "name": "stdout",
     "output_type": "stream",
     "text": [
      "<class 'pandas.core.frame.DataFrame'>\n",
      "RangeIndex: 10000 entries, 0 to 9999\n",
      "Data columns (total 14 columns):\n",
      " #   Column           Non-Null Count  Dtype  \n",
      "---  ------           --------------  -----  \n",
      " 0   RowNumber        10000 non-null  int64  \n",
      " 1   CustomerId       10000 non-null  int64  \n",
      " 2   Surname          10000 non-null  object \n",
      " 3   CreditScore      10000 non-null  int64  \n",
      " 4   Geography        10000 non-null  object \n",
      " 5   Gender           10000 non-null  object \n",
      " 6   Age              10000 non-null  int64  \n",
      " 7   Tenure           9091 non-null   float64\n",
      " 8   Balance          10000 non-null  float64\n",
      " 9   NumOfProducts    10000 non-null  int64  \n",
      " 10  HasCrCard        10000 non-null  int64  \n",
      " 11  IsActiveMember   10000 non-null  int64  \n",
      " 12  EstimatedSalary  10000 non-null  float64\n",
      " 13  Exited           10000 non-null  int64  \n",
      "dtypes: float64(3), int64(8), object(3)\n",
      "memory usage: 1.1+ MB\n"
     ]
    },
    {
     "data": {
      "text/plain": [
       "None"
      ]
     },
     "metadata": {},
     "output_type": "display_data"
    },
    {
     "data": {
      "text/html": [
       "<div>\n",
       "<style scoped>\n",
       "    .dataframe tbody tr th:only-of-type {\n",
       "        vertical-align: middle;\n",
       "    }\n",
       "\n",
       "    .dataframe tbody tr th {\n",
       "        vertical-align: top;\n",
       "    }\n",
       "\n",
       "    .dataframe thead th {\n",
       "        text-align: right;\n",
       "    }\n",
       "</style>\n",
       "<table border=\"1\" class=\"dataframe\">\n",
       "  <thead>\n",
       "    <tr style=\"text-align: right;\">\n",
       "      <th></th>\n",
       "      <th>RowNumber</th>\n",
       "      <th>CustomerId</th>\n",
       "      <th>Surname</th>\n",
       "      <th>CreditScore</th>\n",
       "      <th>Geography</th>\n",
       "      <th>Gender</th>\n",
       "      <th>Age</th>\n",
       "      <th>Tenure</th>\n",
       "      <th>Balance</th>\n",
       "      <th>NumOfProducts</th>\n",
       "      <th>HasCrCard</th>\n",
       "      <th>IsActiveMember</th>\n",
       "      <th>EstimatedSalary</th>\n",
       "      <th>Exited</th>\n",
       "    </tr>\n",
       "  </thead>\n",
       "  <tbody>\n",
       "    <tr>\n",
       "      <th>3903</th>\n",
       "      <td>3904</td>\n",
       "      <td>15678129</td>\n",
       "      <td>Hill</td>\n",
       "      <td>643</td>\n",
       "      <td>Spain</td>\n",
       "      <td>Female</td>\n",
       "      <td>45</td>\n",
       "      <td>9.0</td>\n",
       "      <td>150840.03</td>\n",
       "      <td>2</td>\n",
       "      <td>1</td>\n",
       "      <td>0</td>\n",
       "      <td>155516.35</td>\n",
       "      <td>0</td>\n",
       "    </tr>\n",
       "    <tr>\n",
       "      <th>9861</th>\n",
       "      <td>9862</td>\n",
       "      <td>15798341</td>\n",
       "      <td>Victor</td>\n",
       "      <td>544</td>\n",
       "      <td>France</td>\n",
       "      <td>Male</td>\n",
       "      <td>38</td>\n",
       "      <td>8.0</td>\n",
       "      <td>0.00</td>\n",
       "      <td>1</td>\n",
       "      <td>1</td>\n",
       "      <td>1</td>\n",
       "      <td>98208.62</td>\n",
       "      <td>0</td>\n",
       "    </tr>\n",
       "    <tr>\n",
       "      <th>4365</th>\n",
       "      <td>4366</td>\n",
       "      <td>15716328</td>\n",
       "      <td>Miller</td>\n",
       "      <td>501</td>\n",
       "      <td>France</td>\n",
       "      <td>Female</td>\n",
       "      <td>40</td>\n",
       "      <td>2.0</td>\n",
       "      <td>0.00</td>\n",
       "      <td>2</td>\n",
       "      <td>0</td>\n",
       "      <td>0</td>\n",
       "      <td>141946.92</td>\n",
       "      <td>0</td>\n",
       "    </tr>\n",
       "    <tr>\n",
       "      <th>901</th>\n",
       "      <td>902</td>\n",
       "      <td>15709737</td>\n",
       "      <td>Hunter</td>\n",
       "      <td>643</td>\n",
       "      <td>France</td>\n",
       "      <td>Male</td>\n",
       "      <td>36</td>\n",
       "      <td>7.0</td>\n",
       "      <td>161064.64</td>\n",
       "      <td>2</td>\n",
       "      <td>0</td>\n",
       "      <td>1</td>\n",
       "      <td>84294.82</td>\n",
       "      <td>0</td>\n",
       "    </tr>\n",
       "    <tr>\n",
       "      <th>2384</th>\n",
       "      <td>2385</td>\n",
       "      <td>15758531</td>\n",
       "      <td>Y?</td>\n",
       "      <td>732</td>\n",
       "      <td>France</td>\n",
       "      <td>Female</td>\n",
       "      <td>40</td>\n",
       "      <td>10.0</td>\n",
       "      <td>0.00</td>\n",
       "      <td>2</td>\n",
       "      <td>1</td>\n",
       "      <td>0</td>\n",
       "      <td>154189.08</td>\n",
       "      <td>0</td>\n",
       "    </tr>\n",
       "    <tr>\n",
       "      <th>266</th>\n",
       "      <td>267</td>\n",
       "      <td>15653857</td>\n",
       "      <td>Wallis</td>\n",
       "      <td>498</td>\n",
       "      <td>France</td>\n",
       "      <td>Male</td>\n",
       "      <td>34</td>\n",
       "      <td>2.0</td>\n",
       "      <td>0.00</td>\n",
       "      <td>2</td>\n",
       "      <td>1</td>\n",
       "      <td>1</td>\n",
       "      <td>148528.24</td>\n",
       "      <td>0</td>\n",
       "    </tr>\n",
       "    <tr>\n",
       "      <th>5273</th>\n",
       "      <td>5274</td>\n",
       "      <td>15733904</td>\n",
       "      <td>McDonald</td>\n",
       "      <td>529</td>\n",
       "      <td>France</td>\n",
       "      <td>Male</td>\n",
       "      <td>32</td>\n",
       "      <td>9.0</td>\n",
       "      <td>147493.89</td>\n",
       "      <td>1</td>\n",
       "      <td>1</td>\n",
       "      <td>0</td>\n",
       "      <td>33656.35</td>\n",
       "      <td>0</td>\n",
       "    </tr>\n",
       "    <tr>\n",
       "      <th>6137</th>\n",
       "      <td>6138</td>\n",
       "      <td>15720371</td>\n",
       "      <td>McLean</td>\n",
       "      <td>652</td>\n",
       "      <td>France</td>\n",
       "      <td>Female</td>\n",
       "      <td>51</td>\n",
       "      <td>3.0</td>\n",
       "      <td>0.00</td>\n",
       "      <td>1</td>\n",
       "      <td>1</td>\n",
       "      <td>0</td>\n",
       "      <td>173989.47</td>\n",
       "      <td>1</td>\n",
       "    </tr>\n",
       "    <tr>\n",
       "      <th>5982</th>\n",
       "      <td>5983</td>\n",
       "      <td>15704378</td>\n",
       "      <td>Calabrese</td>\n",
       "      <td>655</td>\n",
       "      <td>Germany</td>\n",
       "      <td>Male</td>\n",
       "      <td>37</td>\n",
       "      <td>9.0</td>\n",
       "      <td>121342.24</td>\n",
       "      <td>1</td>\n",
       "      <td>1</td>\n",
       "      <td>1</td>\n",
       "      <td>180241.44</td>\n",
       "      <td>0</td>\n",
       "    </tr>\n",
       "    <tr>\n",
       "      <th>6065</th>\n",
       "      <td>6066</td>\n",
       "      <td>15674720</td>\n",
       "      <td>Smith</td>\n",
       "      <td>691</td>\n",
       "      <td>Germany</td>\n",
       "      <td>Female</td>\n",
       "      <td>37</td>\n",
       "      <td>7.0</td>\n",
       "      <td>123067.63</td>\n",
       "      <td>1</td>\n",
       "      <td>1</td>\n",
       "      <td>1</td>\n",
       "      <td>98162.44</td>\n",
       "      <td>1</td>\n",
       "    </tr>\n",
       "  </tbody>\n",
       "</table>\n",
       "</div>"
      ],
      "text/plain": [
       "      RowNumber  CustomerId    Surname  CreditScore Geography  Gender  Age  \\\n",
       "3903       3904    15678129       Hill          643     Spain  Female   45   \n",
       "9861       9862    15798341     Victor          544    France    Male   38   \n",
       "4365       4366    15716328     Miller          501    France  Female   40   \n",
       "901         902    15709737     Hunter          643    France    Male   36   \n",
       "2384       2385    15758531         Y?          732    France  Female   40   \n",
       "266         267    15653857     Wallis          498    France    Male   34   \n",
       "5273       5274    15733904   McDonald          529    France    Male   32   \n",
       "6137       6138    15720371     McLean          652    France  Female   51   \n",
       "5982       5983    15704378  Calabrese          655   Germany    Male   37   \n",
       "6065       6066    15674720      Smith          691   Germany  Female   37   \n",
       "\n",
       "      Tenure    Balance  NumOfProducts  HasCrCard  IsActiveMember  \\\n",
       "3903     9.0  150840.03              2          1               0   \n",
       "9861     8.0       0.00              1          1               1   \n",
       "4365     2.0       0.00              2          0               0   \n",
       "901      7.0  161064.64              2          0               1   \n",
       "2384    10.0       0.00              2          1               0   \n",
       "266      2.0       0.00              2          1               1   \n",
       "5273     9.0  147493.89              1          1               0   \n",
       "6137     3.0       0.00              1          1               0   \n",
       "5982     9.0  121342.24              1          1               1   \n",
       "6065     7.0  123067.63              1          1               1   \n",
       "\n",
       "      EstimatedSalary  Exited  \n",
       "3903        155516.35       0  \n",
       "9861         98208.62       0  \n",
       "4365        141946.92       0  \n",
       "901          84294.82       0  \n",
       "2384        154189.08       0  \n",
       "266         148528.24       0  \n",
       "5273         33656.35       0  \n",
       "6137        173989.47       1  \n",
       "5982        180241.44       0  \n",
       "6065         98162.44       1  "
      ]
     },
     "metadata": {},
     "output_type": "display_data"
    }
   ],
   "source": [
    "data = pd.read_csv('https://practicum-content.s3.us-west-1.amazonaws.com/datasets/Churn.csv')\n",
    "display(data.info())\n",
    "display(data.sample(10))\n"
   ]
  },
  {
   "cell_type": "markdown",
   "metadata": {},
   "source": [
    "En este primer vistazo de los datos, nos damos cuenta que existen algunos valores ausentes en la columna \"Tenure\", la cual identifica  el tiempo de un depósito a plazo fijo de un cliente.\n",
    "Vamos a revisar más a detalle las filas con datos austentes en el siguiente apartado"
   ]
  },
  {
   "cell_type": "markdown",
   "metadata": {},
   "source": [
    "## PROCESAMIENTO DE DATOS"
   ]
  },
  {
   "cell_type": "code",
   "execution_count": 4,
   "metadata": {},
   "outputs": [
    {
     "data": {
      "text/html": [
       "<div>\n",
       "<style scoped>\n",
       "    .dataframe tbody tr th:only-of-type {\n",
       "        vertical-align: middle;\n",
       "    }\n",
       "\n",
       "    .dataframe tbody tr th {\n",
       "        vertical-align: top;\n",
       "    }\n",
       "\n",
       "    .dataframe thead th {\n",
       "        text-align: right;\n",
       "    }\n",
       "</style>\n",
       "<table border=\"1\" class=\"dataframe\">\n",
       "  <thead>\n",
       "    <tr style=\"text-align: right;\">\n",
       "      <th></th>\n",
       "      <th>RowNumber</th>\n",
       "      <th>CustomerId</th>\n",
       "      <th>Surname</th>\n",
       "      <th>CreditScore</th>\n",
       "      <th>Geography</th>\n",
       "      <th>Gender</th>\n",
       "      <th>Age</th>\n",
       "      <th>Tenure</th>\n",
       "      <th>Balance</th>\n",
       "      <th>NumOfProducts</th>\n",
       "      <th>HasCrCard</th>\n",
       "      <th>IsActiveMember</th>\n",
       "      <th>EstimatedSalary</th>\n",
       "      <th>Exited</th>\n",
       "    </tr>\n",
       "  </thead>\n",
       "  <tbody>\n",
       "    <tr>\n",
       "      <th>3413</th>\n",
       "      <td>3414</td>\n",
       "      <td>15627412</td>\n",
       "      <td>Ferri</td>\n",
       "      <td>605</td>\n",
       "      <td>France</td>\n",
       "      <td>Male</td>\n",
       "      <td>39</td>\n",
       "      <td>NaN</td>\n",
       "      <td>0.00</td>\n",
       "      <td>2</td>\n",
       "      <td>1</td>\n",
       "      <td>0</td>\n",
       "      <td>199390.45</td>\n",
       "      <td>0</td>\n",
       "    </tr>\n",
       "    <tr>\n",
       "      <th>125</th>\n",
       "      <td>126</td>\n",
       "      <td>15627360</td>\n",
       "      <td>Fuller</td>\n",
       "      <td>432</td>\n",
       "      <td>France</td>\n",
       "      <td>Male</td>\n",
       "      <td>42</td>\n",
       "      <td>NaN</td>\n",
       "      <td>152603.45</td>\n",
       "      <td>1</td>\n",
       "      <td>1</td>\n",
       "      <td>0</td>\n",
       "      <td>110265.24</td>\n",
       "      <td>1</td>\n",
       "    </tr>\n",
       "    <tr>\n",
       "      <th>9187</th>\n",
       "      <td>9188</td>\n",
       "      <td>15628863</td>\n",
       "      <td>Calabresi</td>\n",
       "      <td>601</td>\n",
       "      <td>France</td>\n",
       "      <td>Male</td>\n",
       "      <td>38</td>\n",
       "      <td>NaN</td>\n",
       "      <td>60013.81</td>\n",
       "      <td>1</td>\n",
       "      <td>1</td>\n",
       "      <td>1</td>\n",
       "      <td>38020.05</td>\n",
       "      <td>0</td>\n",
       "    </tr>\n",
       "    <tr>\n",
       "      <th>7251</th>\n",
       "      <td>7252</td>\n",
       "      <td>15746995</td>\n",
       "      <td>Greco</td>\n",
       "      <td>724</td>\n",
       "      <td>Germany</td>\n",
       "      <td>Male</td>\n",
       "      <td>31</td>\n",
       "      <td>NaN</td>\n",
       "      <td>138166.30</td>\n",
       "      <td>1</td>\n",
       "      <td>1</td>\n",
       "      <td>0</td>\n",
       "      <td>12920.43</td>\n",
       "      <td>0</td>\n",
       "    </tr>\n",
       "    <tr>\n",
       "      <th>4260</th>\n",
       "      <td>4261</td>\n",
       "      <td>15664555</td>\n",
       "      <td>Hughes</td>\n",
       "      <td>587</td>\n",
       "      <td>France</td>\n",
       "      <td>Male</td>\n",
       "      <td>40</td>\n",
       "      <td>NaN</td>\n",
       "      <td>0.00</td>\n",
       "      <td>4</td>\n",
       "      <td>0</td>\n",
       "      <td>1</td>\n",
       "      <td>106174.70</td>\n",
       "      <td>1</td>\n",
       "    </tr>\n",
       "    <tr>\n",
       "      <th>8679</th>\n",
       "      <td>8680</td>\n",
       "      <td>15753092</td>\n",
       "      <td>He</td>\n",
       "      <td>791</td>\n",
       "      <td>Germany</td>\n",
       "      <td>Male</td>\n",
       "      <td>35</td>\n",
       "      <td>NaN</td>\n",
       "      <td>129828.58</td>\n",
       "      <td>1</td>\n",
       "      <td>1</td>\n",
       "      <td>1</td>\n",
       "      <td>181918.26</td>\n",
       "      <td>1</td>\n",
       "    </tr>\n",
       "    <tr>\n",
       "      <th>2820</th>\n",
       "      <td>2821</td>\n",
       "      <td>15813916</td>\n",
       "      <td>Kudryashova</td>\n",
       "      <td>622</td>\n",
       "      <td>France</td>\n",
       "      <td>Female</td>\n",
       "      <td>31</td>\n",
       "      <td>NaN</td>\n",
       "      <td>89688.94</td>\n",
       "      <td>1</td>\n",
       "      <td>1</td>\n",
       "      <td>1</td>\n",
       "      <td>152305.47</td>\n",
       "      <td>0</td>\n",
       "    </tr>\n",
       "    <tr>\n",
       "      <th>5880</th>\n",
       "      <td>5881</td>\n",
       "      <td>15718231</td>\n",
       "      <td>Gregory</td>\n",
       "      <td>537</td>\n",
       "      <td>France</td>\n",
       "      <td>Male</td>\n",
       "      <td>28</td>\n",
       "      <td>NaN</td>\n",
       "      <td>88963.31</td>\n",
       "      <td>2</td>\n",
       "      <td>1</td>\n",
       "      <td>1</td>\n",
       "      <td>189839.93</td>\n",
       "      <td>0</td>\n",
       "    </tr>\n",
       "    <tr>\n",
       "      <th>4940</th>\n",
       "      <td>4941</td>\n",
       "      <td>15799652</td>\n",
       "      <td>Daigle</td>\n",
       "      <td>763</td>\n",
       "      <td>France</td>\n",
       "      <td>Female</td>\n",
       "      <td>38</td>\n",
       "      <td>NaN</td>\n",
       "      <td>152582.20</td>\n",
       "      <td>2</td>\n",
       "      <td>0</td>\n",
       "      <td>0</td>\n",
       "      <td>31892.82</td>\n",
       "      <td>0</td>\n",
       "    </tr>\n",
       "    <tr>\n",
       "      <th>8148</th>\n",
       "      <td>8149</td>\n",
       "      <td>15572777</td>\n",
       "      <td>Meng</td>\n",
       "      <td>780</td>\n",
       "      <td>Spain</td>\n",
       "      <td>Male</td>\n",
       "      <td>47</td>\n",
       "      <td>NaN</td>\n",
       "      <td>86006.21</td>\n",
       "      <td>1</td>\n",
       "      <td>1</td>\n",
       "      <td>1</td>\n",
       "      <td>37973.13</td>\n",
       "      <td>0</td>\n",
       "    </tr>\n",
       "    <tr>\n",
       "      <th>6902</th>\n",
       "      <td>6903</td>\n",
       "      <td>15636548</td>\n",
       "      <td>Lung</td>\n",
       "      <td>457</td>\n",
       "      <td>Spain</td>\n",
       "      <td>Male</td>\n",
       "      <td>44</td>\n",
       "      <td>NaN</td>\n",
       "      <td>0.00</td>\n",
       "      <td>2</td>\n",
       "      <td>0</td>\n",
       "      <td>0</td>\n",
       "      <td>185992.36</td>\n",
       "      <td>0</td>\n",
       "    </tr>\n",
       "    <tr>\n",
       "      <th>8630</th>\n",
       "      <td>8631</td>\n",
       "      <td>15786042</td>\n",
       "      <td>Willmore</td>\n",
       "      <td>706</td>\n",
       "      <td>Germany</td>\n",
       "      <td>Female</td>\n",
       "      <td>44</td>\n",
       "      <td>NaN</td>\n",
       "      <td>185932.18</td>\n",
       "      <td>2</td>\n",
       "      <td>1</td>\n",
       "      <td>0</td>\n",
       "      <td>65413.41</td>\n",
       "      <td>0</td>\n",
       "    </tr>\n",
       "    <tr>\n",
       "      <th>3814</th>\n",
       "      <td>3815</td>\n",
       "      <td>15642093</td>\n",
       "      <td>Piccio</td>\n",
       "      <td>646</td>\n",
       "      <td>France</td>\n",
       "      <td>Male</td>\n",
       "      <td>30</td>\n",
       "      <td>NaN</td>\n",
       "      <td>0.00</td>\n",
       "      <td>2</td>\n",
       "      <td>1</td>\n",
       "      <td>0</td>\n",
       "      <td>153566.97</td>\n",
       "      <td>0</td>\n",
       "    </tr>\n",
       "    <tr>\n",
       "      <th>4960</th>\n",
       "      <td>4961</td>\n",
       "      <td>15767626</td>\n",
       "      <td>Carpenter</td>\n",
       "      <td>811</td>\n",
       "      <td>France</td>\n",
       "      <td>Male</td>\n",
       "      <td>42</td>\n",
       "      <td>NaN</td>\n",
       "      <td>0.00</td>\n",
       "      <td>2</td>\n",
       "      <td>1</td>\n",
       "      <td>1</td>\n",
       "      <td>3797.79</td>\n",
       "      <td>0</td>\n",
       "    </tr>\n",
       "    <tr>\n",
       "      <th>8657</th>\n",
       "      <td>8658</td>\n",
       "      <td>15684316</td>\n",
       "      <td>Udokamma</td>\n",
       "      <td>532</td>\n",
       "      <td>France</td>\n",
       "      <td>Male</td>\n",
       "      <td>43</td>\n",
       "      <td>NaN</td>\n",
       "      <td>0.00</td>\n",
       "      <td>2</td>\n",
       "      <td>0</td>\n",
       "      <td>0</td>\n",
       "      <td>190573.91</td>\n",
       "      <td>1</td>\n",
       "    </tr>\n",
       "    <tr>\n",
       "      <th>9485</th>\n",
       "      <td>9486</td>\n",
       "      <td>15656319</td>\n",
       "      <td>Toscano</td>\n",
       "      <td>850</td>\n",
       "      <td>Spain</td>\n",
       "      <td>Male</td>\n",
       "      <td>37</td>\n",
       "      <td>NaN</td>\n",
       "      <td>88141.10</td>\n",
       "      <td>1</td>\n",
       "      <td>1</td>\n",
       "      <td>0</td>\n",
       "      <td>109659.12</td>\n",
       "      <td>0</td>\n",
       "    </tr>\n",
       "    <tr>\n",
       "      <th>7705</th>\n",
       "      <td>7706</td>\n",
       "      <td>15647306</td>\n",
       "      <td>Gibbs</td>\n",
       "      <td>777</td>\n",
       "      <td>France</td>\n",
       "      <td>Female</td>\n",
       "      <td>29</td>\n",
       "      <td>NaN</td>\n",
       "      <td>131240.61</td>\n",
       "      <td>1</td>\n",
       "      <td>1</td>\n",
       "      <td>1</td>\n",
       "      <td>163746.09</td>\n",
       "      <td>1</td>\n",
       "    </tr>\n",
       "    <tr>\n",
       "      <th>6953</th>\n",
       "      <td>6954</td>\n",
       "      <td>15579109</td>\n",
       "      <td>Napolitano</td>\n",
       "      <td>574</td>\n",
       "      <td>Germany</td>\n",
       "      <td>Male</td>\n",
       "      <td>35</td>\n",
       "      <td>NaN</td>\n",
       "      <td>163856.76</td>\n",
       "      <td>1</td>\n",
       "      <td>1</td>\n",
       "      <td>1</td>\n",
       "      <td>15118.20</td>\n",
       "      <td>0</td>\n",
       "    </tr>\n",
       "    <tr>\n",
       "      <th>4113</th>\n",
       "      <td>4114</td>\n",
       "      <td>15667085</td>\n",
       "      <td>Meng</td>\n",
       "      <td>667</td>\n",
       "      <td>France</td>\n",
       "      <td>Male</td>\n",
       "      <td>33</td>\n",
       "      <td>NaN</td>\n",
       "      <td>0.00</td>\n",
       "      <td>2</td>\n",
       "      <td>1</td>\n",
       "      <td>1</td>\n",
       "      <td>131834.75</td>\n",
       "      <td>0</td>\n",
       "    </tr>\n",
       "    <tr>\n",
       "      <th>9274</th>\n",
       "      <td>9275</td>\n",
       "      <td>15793425</td>\n",
       "      <td>Watt</td>\n",
       "      <td>560</td>\n",
       "      <td>Spain</td>\n",
       "      <td>Female</td>\n",
       "      <td>33</td>\n",
       "      <td>NaN</td>\n",
       "      <td>0.00</td>\n",
       "      <td>1</td>\n",
       "      <td>0</td>\n",
       "      <td>1</td>\n",
       "      <td>183358.21</td>\n",
       "      <td>0</td>\n",
       "    </tr>\n",
       "  </tbody>\n",
       "</table>\n",
       "</div>"
      ],
      "text/plain": [
       "      RowNumber  CustomerId      Surname  CreditScore Geography  Gender  Age  \\\n",
       "3413       3414    15627412        Ferri          605    France    Male   39   \n",
       "125         126    15627360       Fuller          432    France    Male   42   \n",
       "9187       9188    15628863    Calabresi          601    France    Male   38   \n",
       "7251       7252    15746995        Greco          724   Germany    Male   31   \n",
       "4260       4261    15664555       Hughes          587    France    Male   40   \n",
       "8679       8680    15753092           He          791   Germany    Male   35   \n",
       "2820       2821    15813916  Kudryashova          622    France  Female   31   \n",
       "5880       5881    15718231      Gregory          537    France    Male   28   \n",
       "4940       4941    15799652       Daigle          763    France  Female   38   \n",
       "8148       8149    15572777         Meng          780     Spain    Male   47   \n",
       "6902       6903    15636548         Lung          457     Spain    Male   44   \n",
       "8630       8631    15786042     Willmore          706   Germany  Female   44   \n",
       "3814       3815    15642093       Piccio          646    France    Male   30   \n",
       "4960       4961    15767626    Carpenter          811    France    Male   42   \n",
       "8657       8658    15684316     Udokamma          532    France    Male   43   \n",
       "9485       9486    15656319      Toscano          850     Spain    Male   37   \n",
       "7705       7706    15647306        Gibbs          777    France  Female   29   \n",
       "6953       6954    15579109   Napolitano          574   Germany    Male   35   \n",
       "4113       4114    15667085         Meng          667    France    Male   33   \n",
       "9274       9275    15793425         Watt          560     Spain  Female   33   \n",
       "\n",
       "      Tenure    Balance  NumOfProducts  HasCrCard  IsActiveMember  \\\n",
       "3413     NaN       0.00              2          1               0   \n",
       "125      NaN  152603.45              1          1               0   \n",
       "9187     NaN   60013.81              1          1               1   \n",
       "7251     NaN  138166.30              1          1               0   \n",
       "4260     NaN       0.00              4          0               1   \n",
       "8679     NaN  129828.58              1          1               1   \n",
       "2820     NaN   89688.94              1          1               1   \n",
       "5880     NaN   88963.31              2          1               1   \n",
       "4940     NaN  152582.20              2          0               0   \n",
       "8148     NaN   86006.21              1          1               1   \n",
       "6902     NaN       0.00              2          0               0   \n",
       "8630     NaN  185932.18              2          1               0   \n",
       "3814     NaN       0.00              2          1               0   \n",
       "4960     NaN       0.00              2          1               1   \n",
       "8657     NaN       0.00              2          0               0   \n",
       "9485     NaN   88141.10              1          1               0   \n",
       "7705     NaN  131240.61              1          1               1   \n",
       "6953     NaN  163856.76              1          1               1   \n",
       "4113     NaN       0.00              2          1               1   \n",
       "9274     NaN       0.00              1          0               1   \n",
       "\n",
       "      EstimatedSalary  Exited  \n",
       "3413        199390.45       0  \n",
       "125         110265.24       1  \n",
       "9187         38020.05       0  \n",
       "7251         12920.43       0  \n",
       "4260        106174.70       1  \n",
       "8679        181918.26       1  \n",
       "2820        152305.47       0  \n",
       "5880        189839.93       0  \n",
       "4940         31892.82       0  \n",
       "8148         37973.13       0  \n",
       "6902        185992.36       0  \n",
       "8630         65413.41       0  \n",
       "3814        153566.97       0  \n",
       "4960          3797.79       0  \n",
       "8657        190573.91       1  \n",
       "9485        109659.12       0  \n",
       "7705        163746.09       1  \n",
       "6953         15118.20       0  \n",
       "4113        131834.75       0  \n",
       "9274        183358.21       0  "
      ]
     },
     "metadata": {},
     "output_type": "display_data"
    }
   ],
   "source": [
    "#Mostramos las filas con datos ausentes\n",
    "display(data[data[\"Tenure\"].isna()].sample(20))"
   ]
  },
  {
   "cell_type": "markdown",
   "metadata": {},
   "source": [
    "No vemos alguna relación entre esa columna con datos vacíos y alguna otra, podríamos concluir que los datos vacíos puden ser \"0\", o también que el tipo de cuenta no aplica con ese tipo de registro, como parece ser una característica con ordinalidad, y además que incluye cerca del 10% de los datos, vemos más conveniente convertir estos valores en 0 que eliminarlos, además de aumentar en 1 todos los demás datos, así podemos conservar su ordinalidad y no perder una alta cantidad de valores en el dataset."
   ]
  },
  {
   "cell_type": "code",
   "execution_count": 5,
   "metadata": {},
   "outputs": [
    {
     "name": "stdout",
     "output_type": "stream",
     "text": [
      "<class 'pandas.core.frame.DataFrame'>\n",
      "RangeIndex: 10000 entries, 0 to 9999\n",
      "Data columns (total 14 columns):\n",
      " #   Column           Non-Null Count  Dtype  \n",
      "---  ------           --------------  -----  \n",
      " 0   RowNumber        10000 non-null  int64  \n",
      " 1   CustomerId       10000 non-null  int64  \n",
      " 2   Surname          10000 non-null  object \n",
      " 3   CreditScore      10000 non-null  int64  \n",
      " 4   Geography        10000 non-null  object \n",
      " 5   Gender           10000 non-null  object \n",
      " 6   Age              10000 non-null  int64  \n",
      " 7   Tenure           10000 non-null  float64\n",
      " 8   Balance          10000 non-null  float64\n",
      " 9   NumOfProducts    10000 non-null  int64  \n",
      " 10  HasCrCard        10000 non-null  int64  \n",
      " 11  IsActiveMember   10000 non-null  int64  \n",
      " 12  EstimatedSalary  10000 non-null  float64\n",
      " 13  Exited           10000 non-null  int64  \n",
      "dtypes: float64(3), int64(8), object(3)\n",
      "memory usage: 1.1+ MB\n"
     ]
    },
    {
     "data": {
      "text/plain": [
       "None"
      ]
     },
     "metadata": {},
     "output_type": "display_data"
    }
   ],
   "source": [
    "# #sumamos 1 a los valores de Tenure y reemplazamos con un 0 a los valores nan\n",
    "data[\"Tenure\"] = data[\"Tenure\"] + 1\n",
    "data[\"Tenure\"].fillna(0,inplace=True)\n",
    "display(data.info())"
   ]
  },
  {
   "cell_type": "code",
   "execution_count": 6,
   "metadata": {},
   "outputs": [
    {
     "name": "stdout",
     "output_type": "stream",
     "text": [
      "<class 'pandas.core.frame.DataFrame'>\n",
      "RangeIndex: 10000 entries, 0 to 9999\n",
      "Data columns (total 12 columns):\n",
      " #   Column             Non-Null Count  Dtype  \n",
      "---  ------             --------------  -----  \n",
      " 0   CreditScore        10000 non-null  float64\n",
      " 1   Age                10000 non-null  float64\n",
      " 2   Tenure             10000 non-null  float64\n",
      " 3   Balance            10000 non-null  float64\n",
      " 4   NumOfProducts      10000 non-null  float64\n",
      " 5   HasCrCard          10000 non-null  int64  \n",
      " 6   IsActiveMember     10000 non-null  int64  \n",
      " 7   EstimatedSalary    10000 non-null  float64\n",
      " 8   Exited             10000 non-null  int64  \n",
      " 9   Geography_Germany  10000 non-null  bool   \n",
      " 10  Geography_Spain    10000 non-null  bool   \n",
      " 11  Gender_Male        10000 non-null  bool   \n",
      "dtypes: bool(3), float64(6), int64(3)\n",
      "memory usage: 732.6 KB\n"
     ]
    },
    {
     "data": {
      "text/plain": [
       "None"
      ]
     },
     "metadata": {},
     "output_type": "display_data"
    }
   ],
   "source": [
    "# Codificación one-hot: obtén características dummy\n",
    "# drop_first = True - quitar la primera columna (evitar trampas dummy)\n",
    "data_ohe = pd.get_dummies(data.drop([\"Surname\",\"RowNumber\",\"CustomerId\"], axis=1), drop_first=True)\n",
    "\n",
    "# Estandarización\n",
    "numeric_columns=[\"CreditScore\",\"Age\",\"Tenure\",\"Balance\",\"EstimatedSalary\",\"NumOfProducts\"]\n",
    "scaler = StandardScaler()\n",
    "scaler.fit(data_ohe[numeric_columns])\n",
    "data_scaled = scaler.transform(data_ohe[numeric_columns])\n",
    "data_ohe[numeric_columns]= data_scaled\n",
    "data_ohe_scaled= data_ohe\n",
    "display(data_ohe_scaled.info())"
   ]
  },
  {
   "cell_type": "code",
   "execution_count": 7,
   "metadata": {},
   "outputs": [
    {
     "name": "stdout",
     "output_type": "stream",
     "text": [
      "F1: 0.6074429771908764\n",
      "Área bajo la curva ROC: 0.8716039368217722\n"
     ]
    }
   ],
   "source": [
    "#Entrenamiento de un modelo random forest clasificator de primera mano\n",
    "\n",
    "features= data_ohe_scaled.drop(\"Exited\", axis=1)\n",
    "target = data_ohe_scaled[\"Exited\"]\n",
    "features_train, features_valid, target_train, target_valid = train_test_split(features,target, test_size= 0.25, random_state=99)\n",
    "\n",
    "#Entrenamos el modelo\n",
    "model = RandomForestClassifier(random_state=99, max_depth=20)\n",
    "model.fit(features_train,target_train)\n",
    "predictions = model.predict(features_valid)\n",
    "\n",
    "#verfificamos las metricas del modelo\n",
    "probabilities_valid = model.predict_proba(features_valid)\n",
    "probabilities_one_valid = probabilities_valid[:, 1]\n",
    "print(\"F1:\", f1_score(target_valid, predictions))\n",
    "print(\"Área bajo la curva ROC:\", roc_auc_score(target_valid,probabilities_one_valid))"
   ]
  },
  {
   "cell_type": "markdown",
   "metadata": {},
   "source": [
    "## EQUILIBRIO DE CLASES\n"
   ]
  },
  {
   "cell_type": "code",
   "execution_count": 8,
   "metadata": {},
   "outputs": [
    {
     "data": {
      "text/plain": [
       "Exited\n",
       "0    7963\n",
       "1    2037\n",
       "Name: count, dtype: int64"
      ]
     },
     "execution_count": 8,
     "metadata": {},
     "output_type": "execute_result"
    }
   ],
   "source": [
    "data_ohe_scaled[\"Exited\"].value_counts()\n"
   ]
  },
  {
   "cell_type": "code",
   "execution_count": 9,
   "metadata": {},
   "outputs": [],
   "source": [
    "def upsample(features, target, repeat):\n",
    "    features_zeros = features[target == 0]\n",
    "    features_ones = features[target == 1]\n",
    "    target_zeros = target[target == 0]\n",
    "    target_ones = target[target == 1]\n",
    "\n",
    "    features_upsampled = pd.concat([features_zeros] + [features_ones] * repeat)\n",
    "    target_upsampled = pd.concat([target_zeros] + [target_ones] * repeat)\n",
    "\n",
    "    features_upsampled, target_upsampled = shuffle(\n",
    "        features_upsampled, target_upsampled, random_state=12345\n",
    "    )\n",
    "    return features_upsampled, target_upsampled\n",
    "\n",
    "features_upsampled, target_upsampled = upsample(\n",
    "    features_train, target_train, 3\n",
    ")\n"
   ]
  },
  {
   "cell_type": "markdown",
   "metadata": {},
   "source": [
    "## ENTRENAMIENTO DEL MODELO\n"
   ]
  },
  {
   "cell_type": "code",
   "execution_count": 10,
   "metadata": {},
   "outputs": [
    {
     "name": "stdout",
     "output_type": "stream",
     "text": [
      "F1: 0.6305525460455038\n",
      "Área bajo la curva ROC: 0.8708661961077249\n"
     ]
    }
   ],
   "source": [
    "model = RandomForestClassifier(random_state=12345, class_weight=\"balanced\")\n",
    "model.fit(features_upsampled, target_upsampled)\n",
    "predicted_valid = model.predict(features_valid)\n",
    "\n",
    "probabilities_valid = model.predict_proba(features_valid)\n",
    "probabilities_one_valid = probabilities_valid[:, 1]\n",
    "\n",
    "print(\"F1:\", f1_score(target_valid, predicted_valid))\n",
    "print(\"Área bajo la curva ROC:\", roc_auc_score(target_valid,probabilities_one_valid))\n",
    "\n"
   ]
  },
  {
   "cell_type": "markdown",
   "metadata": {},
   "source": [
    "Podemos notar un pequeño aumento después de realizar un oversampling y un ajuste de peso de clase en los datos, con este score de F1= 0.63 sobrepasamos con holgura nuestro objetivo de al menos 0.59"
   ]
  },
  {
   "cell_type": "markdown",
   "metadata": {},
   "source": [
    "## VALIDACION Y PRUEBAS FINALES"
   ]
  },
  {
   "cell_type": "markdown",
   "metadata": {},
   "source": [
    "### Grafico de ROC para nuestro modelo final"
   ]
  },
  {
   "cell_type": "code",
   "execution_count": 11,
   "metadata": {},
   "outputs": [
    {
     "data": {
      "application/vnd.plotly.v1+json": {
       "config": {
        "plotlyServerURL": "https://plot.ly"
       },
       "data": [
        {
         "hovertemplate": "Tasa de falsos positivos=%{x}<br>Tasa de verdaderos positivos=%{y}<extra></extra>",
         "legendgroup": "",
         "line": {
          "color": "#636efa",
          "dash": "solid"
         },
         "marker": {
          "symbol": "circle"
         },
         "mode": "lines",
         "name": "",
         "orientation": "v",
         "showlegend": false,
         "type": "scatter",
         "x": [
          0,
          0,
          0,
          0.0005047955577990914,
          0.0005047955577990914,
          0.0005047955577990914,
          0.0010095911155981827,
          0.0010095911155981827,
          0.0010095911155981827,
          0.0020191822311963654,
          0.0020191822311963654,
          0.0020191822311963654,
          0.0020191822311963654,
          0.002523977788995457,
          0.002523977788995457,
          0.003028773346794548,
          0.0035335689045936395,
          0.005047955577990914,
          0.005552751135790005,
          0.005552751135790005,
          0.005552751135790005,
          0.007067137809187279,
          0.007067137809187279,
          0.008581524482584554,
          0.01060070671378092,
          0.011610297829379102,
          0.014134275618374558,
          0.01463907117617365,
          0.01514386673397274,
          0.016153457849570924,
          0.016658253407370014,
          0.01817264008076729,
          0.01817264008076729,
          0.020191822311963654,
          0.023220595658758204,
          0.024230186774356385,
          0.02624936900555275,
          0.027763755678950026,
          0.028268551236749116,
          0.0292781423523473,
          0.030792529025744572,
          0.03382130237253912,
          0.03634528016153458,
          0.03785966683493185,
          0.04038364462392731,
          0.04341241797072186,
          0.043917213528520946,
          0.04795557799091368,
          0.05098435133770823,
          0.05401312468450278,
          0.057041898031297326,
          0.06108026249369006,
          0.06562342251388188,
          0.07016658253407371,
          0.07420494699646643,
          0.07824331145885917,
          0.08278647147905098,
          0.09187279151943463,
          0.09742554265522463,
          0.10348308934881373,
          0.10701665825340737,
          0.11559818273599193,
          0.12317011610297829,
          0.12821807168096921,
          0.13780918727915195,
          0.14437152953054014,
          0.1514386673397274,
          0.15951539626451286,
          0.1691065118626956,
          0.17718324078748107,
          0.18475517415446743,
          0.193336698637052,
          0.20343260979303382,
          0.2115093387178193,
          0.22160524987380112,
          0.23018677435638565,
          0.24432104997476023,
          0.2584553255931348,
          0.276123170116103,
          0.28975265017667845,
          0.303886925795053,
          0.32004038364462395,
          0.33669863705199393,
          0.358909641595154,
          0.37859666834931854,
          0.3952549217566885,
          0.414437152953054,
          0.44068652195860675,
          0.4729934376577486,
          0.5068147400302877,
          0.5401312468450278,
          0.5764765270065624,
          0.6153457849570924,
          0.6521958606764261,
          0.6900555275113579,
          0.7375063099444725,
          0.7889954568399798,
          0.845532559313478,
          0.8939929328621908,
          0.9515396264512872,
          1
         ],
         "xaxis": "x",
         "y": [
          0,
          0.0019267822736030828,
          0.007707129094412331,
          0.009633911368015413,
          0.011560693641618497,
          0.019267822736030827,
          0.036608863198458574,
          0.05009633911368015,
          0.0674373795761079,
          0.09441233140655106,
          0.11368015414258188,
          0.11946050096339114,
          0.12716763005780346,
          0.13872832369942195,
          0.15221579961464354,
          0.16377649325626203,
          0.1811175337186898,
          0.19653179190751446,
          0.2254335260115607,
          0.24084778420038536,
          0.24855491329479767,
          0.2678227360308285,
          0.2813102119460501,
          0.2909441233140655,
          0.29865125240847784,
          0.30828516377649323,
          0.3236994219653179,
          0.3371868978805395,
          0.33911368015414256,
          0.35067437379576105,
          0.36801541425818884,
          0.37957610789980734,
          0.3930635838150289,
          0.4007707129094412,
          0.40847784200385356,
          0.4258188824662813,
          0.43545279383429675,
          0.4393063583815029,
          0.4508670520231214,
          0.45857418111753373,
          0.47398843930635837,
          0.4836223506743738,
          0.4913294797687861,
          0.5009633911368016,
          0.51252408477842,
          0.5183044315992292,
          0.5260115606936416,
          0.5317919075144508,
          0.5433526011560693,
          0.5510597302504817,
          0.5606936416184971,
          0.5780346820809249,
          0.5895953757225434,
          0.5973025048169557,
          0.6107899807321773,
          0.6223506743737958,
          0.6339113680154143,
          0.653179190751445,
          0.6647398843930635,
          0.6724470134874759,
          0.6820809248554913,
          0.6955684007707129,
          0.6994219653179191,
          0.7032755298651252,
          0.7148362235067437,
          0.7263969171483622,
          0.7360308285163777,
          0.7360308285163777,
          0.74373795761079,
          0.7456647398843931,
          0.7514450867052023,
          0.7630057803468208,
          0.7745664739884393,
          0.7803468208092486,
          0.789980732177264,
          0.7976878612716763,
          0.8111753371868978,
          0.8188824662813102,
          0.8285163776493256,
          0.8362235067437379,
          0.8477842003853564,
          0.8554913294797688,
          0.861271676300578,
          0.8689788053949904,
          0.8766859344894027,
          0.8940269749518305,
          0.9017341040462428,
          0.9132947976878613,
          0.9248554913294798,
          0.9402697495183044,
          0.9460500963391136,
          0.9556840077071291,
          0.9614643545279383,
          0.9672447013487476,
          0.9672447013487476,
          0.976878612716763,
          0.9903660886319846,
          0.9922928709055877,
          0.9961464354527938,
          0.9980732177263969,
          1
         ],
         "yaxis": "y"
        }
       ],
       "layout": {
        "height": 450,
        "legend": {
         "tracegroupgap": 0
        },
        "shapes": [
         {
          "line": {
           "dash": "dash"
          },
          "type": "line",
          "x0": 0,
          "x1": 1,
          "y0": 0,
          "y1": 1
         }
        ],
        "template": {
         "data": {
          "bar": [
           {
            "error_x": {
             "color": "#2a3f5f"
            },
            "error_y": {
             "color": "#2a3f5f"
            },
            "marker": {
             "line": {
              "color": "#E5ECF6",
              "width": 0.5
             },
             "pattern": {
              "fillmode": "overlay",
              "size": 10,
              "solidity": 0.2
             }
            },
            "type": "bar"
           }
          ],
          "barpolar": [
           {
            "marker": {
             "line": {
              "color": "#E5ECF6",
              "width": 0.5
             },
             "pattern": {
              "fillmode": "overlay",
              "size": 10,
              "solidity": 0.2
             }
            },
            "type": "barpolar"
           }
          ],
          "carpet": [
           {
            "aaxis": {
             "endlinecolor": "#2a3f5f",
             "gridcolor": "white",
             "linecolor": "white",
             "minorgridcolor": "white",
             "startlinecolor": "#2a3f5f"
            },
            "baxis": {
             "endlinecolor": "#2a3f5f",
             "gridcolor": "white",
             "linecolor": "white",
             "minorgridcolor": "white",
             "startlinecolor": "#2a3f5f"
            },
            "type": "carpet"
           }
          ],
          "choropleth": [
           {
            "colorbar": {
             "outlinewidth": 0,
             "ticks": ""
            },
            "type": "choropleth"
           }
          ],
          "contour": [
           {
            "colorbar": {
             "outlinewidth": 0,
             "ticks": ""
            },
            "colorscale": [
             [
              0,
              "#0d0887"
             ],
             [
              0.1111111111111111,
              "#46039f"
             ],
             [
              0.2222222222222222,
              "#7201a8"
             ],
             [
              0.3333333333333333,
              "#9c179e"
             ],
             [
              0.4444444444444444,
              "#bd3786"
             ],
             [
              0.5555555555555556,
              "#d8576b"
             ],
             [
              0.6666666666666666,
              "#ed7953"
             ],
             [
              0.7777777777777778,
              "#fb9f3a"
             ],
             [
              0.8888888888888888,
              "#fdca26"
             ],
             [
              1,
              "#f0f921"
             ]
            ],
            "type": "contour"
           }
          ],
          "contourcarpet": [
           {
            "colorbar": {
             "outlinewidth": 0,
             "ticks": ""
            },
            "type": "contourcarpet"
           }
          ],
          "heatmap": [
           {
            "colorbar": {
             "outlinewidth": 0,
             "ticks": ""
            },
            "colorscale": [
             [
              0,
              "#0d0887"
             ],
             [
              0.1111111111111111,
              "#46039f"
             ],
             [
              0.2222222222222222,
              "#7201a8"
             ],
             [
              0.3333333333333333,
              "#9c179e"
             ],
             [
              0.4444444444444444,
              "#bd3786"
             ],
             [
              0.5555555555555556,
              "#d8576b"
             ],
             [
              0.6666666666666666,
              "#ed7953"
             ],
             [
              0.7777777777777778,
              "#fb9f3a"
             ],
             [
              0.8888888888888888,
              "#fdca26"
             ],
             [
              1,
              "#f0f921"
             ]
            ],
            "type": "heatmap"
           }
          ],
          "heatmapgl": [
           {
            "colorbar": {
             "outlinewidth": 0,
             "ticks": ""
            },
            "colorscale": [
             [
              0,
              "#0d0887"
             ],
             [
              0.1111111111111111,
              "#46039f"
             ],
             [
              0.2222222222222222,
              "#7201a8"
             ],
             [
              0.3333333333333333,
              "#9c179e"
             ],
             [
              0.4444444444444444,
              "#bd3786"
             ],
             [
              0.5555555555555556,
              "#d8576b"
             ],
             [
              0.6666666666666666,
              "#ed7953"
             ],
             [
              0.7777777777777778,
              "#fb9f3a"
             ],
             [
              0.8888888888888888,
              "#fdca26"
             ],
             [
              1,
              "#f0f921"
             ]
            ],
            "type": "heatmapgl"
           }
          ],
          "histogram": [
           {
            "marker": {
             "pattern": {
              "fillmode": "overlay",
              "size": 10,
              "solidity": 0.2
             }
            },
            "type": "histogram"
           }
          ],
          "histogram2d": [
           {
            "colorbar": {
             "outlinewidth": 0,
             "ticks": ""
            },
            "colorscale": [
             [
              0,
              "#0d0887"
             ],
             [
              0.1111111111111111,
              "#46039f"
             ],
             [
              0.2222222222222222,
              "#7201a8"
             ],
             [
              0.3333333333333333,
              "#9c179e"
             ],
             [
              0.4444444444444444,
              "#bd3786"
             ],
             [
              0.5555555555555556,
              "#d8576b"
             ],
             [
              0.6666666666666666,
              "#ed7953"
             ],
             [
              0.7777777777777778,
              "#fb9f3a"
             ],
             [
              0.8888888888888888,
              "#fdca26"
             ],
             [
              1,
              "#f0f921"
             ]
            ],
            "type": "histogram2d"
           }
          ],
          "histogram2dcontour": [
           {
            "colorbar": {
             "outlinewidth": 0,
             "ticks": ""
            },
            "colorscale": [
             [
              0,
              "#0d0887"
             ],
             [
              0.1111111111111111,
              "#46039f"
             ],
             [
              0.2222222222222222,
              "#7201a8"
             ],
             [
              0.3333333333333333,
              "#9c179e"
             ],
             [
              0.4444444444444444,
              "#bd3786"
             ],
             [
              0.5555555555555556,
              "#d8576b"
             ],
             [
              0.6666666666666666,
              "#ed7953"
             ],
             [
              0.7777777777777778,
              "#fb9f3a"
             ],
             [
              0.8888888888888888,
              "#fdca26"
             ],
             [
              1,
              "#f0f921"
             ]
            ],
            "type": "histogram2dcontour"
           }
          ],
          "mesh3d": [
           {
            "colorbar": {
             "outlinewidth": 0,
             "ticks": ""
            },
            "type": "mesh3d"
           }
          ],
          "parcoords": [
           {
            "line": {
             "colorbar": {
              "outlinewidth": 0,
              "ticks": ""
             }
            },
            "type": "parcoords"
           }
          ],
          "pie": [
           {
            "automargin": true,
            "type": "pie"
           }
          ],
          "scatter": [
           {
            "fillpattern": {
             "fillmode": "overlay",
             "size": 10,
             "solidity": 0.2
            },
            "type": "scatter"
           }
          ],
          "scatter3d": [
           {
            "line": {
             "colorbar": {
              "outlinewidth": 0,
              "ticks": ""
             }
            },
            "marker": {
             "colorbar": {
              "outlinewidth": 0,
              "ticks": ""
             }
            },
            "type": "scatter3d"
           }
          ],
          "scattercarpet": [
           {
            "marker": {
             "colorbar": {
              "outlinewidth": 0,
              "ticks": ""
             }
            },
            "type": "scattercarpet"
           }
          ],
          "scattergeo": [
           {
            "marker": {
             "colorbar": {
              "outlinewidth": 0,
              "ticks": ""
             }
            },
            "type": "scattergeo"
           }
          ],
          "scattergl": [
           {
            "marker": {
             "colorbar": {
              "outlinewidth": 0,
              "ticks": ""
             }
            },
            "type": "scattergl"
           }
          ],
          "scattermapbox": [
           {
            "marker": {
             "colorbar": {
              "outlinewidth": 0,
              "ticks": ""
             }
            },
            "type": "scattermapbox"
           }
          ],
          "scatterpolar": [
           {
            "marker": {
             "colorbar": {
              "outlinewidth": 0,
              "ticks": ""
             }
            },
            "type": "scatterpolar"
           }
          ],
          "scatterpolargl": [
           {
            "marker": {
             "colorbar": {
              "outlinewidth": 0,
              "ticks": ""
             }
            },
            "type": "scatterpolargl"
           }
          ],
          "scatterternary": [
           {
            "marker": {
             "colorbar": {
              "outlinewidth": 0,
              "ticks": ""
             }
            },
            "type": "scatterternary"
           }
          ],
          "surface": [
           {
            "colorbar": {
             "outlinewidth": 0,
             "ticks": ""
            },
            "colorscale": [
             [
              0,
              "#0d0887"
             ],
             [
              0.1111111111111111,
              "#46039f"
             ],
             [
              0.2222222222222222,
              "#7201a8"
             ],
             [
              0.3333333333333333,
              "#9c179e"
             ],
             [
              0.4444444444444444,
              "#bd3786"
             ],
             [
              0.5555555555555556,
              "#d8576b"
             ],
             [
              0.6666666666666666,
              "#ed7953"
             ],
             [
              0.7777777777777778,
              "#fb9f3a"
             ],
             [
              0.8888888888888888,
              "#fdca26"
             ],
             [
              1,
              "#f0f921"
             ]
            ],
            "type": "surface"
           }
          ],
          "table": [
           {
            "cells": {
             "fill": {
              "color": "#EBF0F8"
             },
             "line": {
              "color": "white"
             }
            },
            "header": {
             "fill": {
              "color": "#C8D4E3"
             },
             "line": {
              "color": "white"
             }
            },
            "type": "table"
           }
          ]
         },
         "layout": {
          "annotationdefaults": {
           "arrowcolor": "#2a3f5f",
           "arrowhead": 0,
           "arrowwidth": 1
          },
          "autotypenumbers": "strict",
          "coloraxis": {
           "colorbar": {
            "outlinewidth": 0,
            "ticks": ""
           }
          },
          "colorscale": {
           "diverging": [
            [
             0,
             "#8e0152"
            ],
            [
             0.1,
             "#c51b7d"
            ],
            [
             0.2,
             "#de77ae"
            ],
            [
             0.3,
             "#f1b6da"
            ],
            [
             0.4,
             "#fde0ef"
            ],
            [
             0.5,
             "#f7f7f7"
            ],
            [
             0.6,
             "#e6f5d0"
            ],
            [
             0.7,
             "#b8e186"
            ],
            [
             0.8,
             "#7fbc41"
            ],
            [
             0.9,
             "#4d9221"
            ],
            [
             1,
             "#276419"
            ]
           ],
           "sequential": [
            [
             0,
             "#0d0887"
            ],
            [
             0.1111111111111111,
             "#46039f"
            ],
            [
             0.2222222222222222,
             "#7201a8"
            ],
            [
             0.3333333333333333,
             "#9c179e"
            ],
            [
             0.4444444444444444,
             "#bd3786"
            ],
            [
             0.5555555555555556,
             "#d8576b"
            ],
            [
             0.6666666666666666,
             "#ed7953"
            ],
            [
             0.7777777777777778,
             "#fb9f3a"
            ],
            [
             0.8888888888888888,
             "#fdca26"
            ],
            [
             1,
             "#f0f921"
            ]
           ],
           "sequentialminus": [
            [
             0,
             "#0d0887"
            ],
            [
             0.1111111111111111,
             "#46039f"
            ],
            [
             0.2222222222222222,
             "#7201a8"
            ],
            [
             0.3333333333333333,
             "#9c179e"
            ],
            [
             0.4444444444444444,
             "#bd3786"
            ],
            [
             0.5555555555555556,
             "#d8576b"
            ],
            [
             0.6666666666666666,
             "#ed7953"
            ],
            [
             0.7777777777777778,
             "#fb9f3a"
            ],
            [
             0.8888888888888888,
             "#fdca26"
            ],
            [
             1,
             "#f0f921"
            ]
           ]
          },
          "colorway": [
           "#636efa",
           "#EF553B",
           "#00cc96",
           "#ab63fa",
           "#FFA15A",
           "#19d3f3",
           "#FF6692",
           "#B6E880",
           "#FF97FF",
           "#FECB52"
          ],
          "font": {
           "color": "#2a3f5f"
          },
          "geo": {
           "bgcolor": "white",
           "lakecolor": "white",
           "landcolor": "#E5ECF6",
           "showlakes": true,
           "showland": true,
           "subunitcolor": "white"
          },
          "hoverlabel": {
           "align": "left"
          },
          "hovermode": "closest",
          "mapbox": {
           "style": "light"
          },
          "paper_bgcolor": "white",
          "plot_bgcolor": "#E5ECF6",
          "polar": {
           "angularaxis": {
            "gridcolor": "white",
            "linecolor": "white",
            "ticks": ""
           },
           "bgcolor": "#E5ECF6",
           "radialaxis": {
            "gridcolor": "white",
            "linecolor": "white",
            "ticks": ""
           }
          },
          "scene": {
           "xaxis": {
            "backgroundcolor": "#E5ECF6",
            "gridcolor": "white",
            "gridwidth": 2,
            "linecolor": "white",
            "showbackground": true,
            "ticks": "",
            "zerolinecolor": "white"
           },
           "yaxis": {
            "backgroundcolor": "#E5ECF6",
            "gridcolor": "white",
            "gridwidth": 2,
            "linecolor": "white",
            "showbackground": true,
            "ticks": "",
            "zerolinecolor": "white"
           },
           "zaxis": {
            "backgroundcolor": "#E5ECF6",
            "gridcolor": "white",
            "gridwidth": 2,
            "linecolor": "white",
            "showbackground": true,
            "ticks": "",
            "zerolinecolor": "white"
           }
          },
          "shapedefaults": {
           "line": {
            "color": "#2a3f5f"
           }
          },
          "ternary": {
           "aaxis": {
            "gridcolor": "white",
            "linecolor": "white",
            "ticks": ""
           },
           "baxis": {
            "gridcolor": "white",
            "linecolor": "white",
            "ticks": ""
           },
           "bgcolor": "#E5ECF6",
           "caxis": {
            "gridcolor": "white",
            "linecolor": "white",
            "ticks": ""
           }
          },
          "title": {
           "x": 0.05
          },
          "xaxis": {
           "automargin": true,
           "gridcolor": "white",
           "linecolor": "white",
           "ticks": "",
           "title": {
            "standoff": 15
           },
           "zerolinecolor": "white",
           "zerolinewidth": 2
          },
          "yaxis": {
           "automargin": true,
           "gridcolor": "white",
           "linecolor": "white",
           "ticks": "",
           "title": {
            "standoff": 15
           },
           "zerolinecolor": "white",
           "zerolinewidth": 2
          }
         }
        },
        "title": {
         "text": "Curva ROC"
        },
        "width": 800,
        "xaxis": {
         "anchor": "y",
         "domain": [
          0,
          1
         ],
         "title": {
          "text": "Tasa de falsos positivos"
         }
        },
        "yaxis": {
         "anchor": "x",
         "domain": [
          0,
          1
         ],
         "title": {
          "text": "Tasa de verdaderos positivos"
         }
        }
       }
      }
     },
     "metadata": {},
     "output_type": "display_data"
    }
   ],
   "source": [
    "\n",
    "#Utilizamos la funcion roc_curve que nos dará las tasas de verdaderos y falsos positivos\n",
    "fpr, tpr, thresholds = roc_curve(target_valid, probabilities_one_valid)  \n",
    "\n",
    "#Creamos un df con los datos para graficar\n",
    "roc_data = {\"FPR\": fpr, \"TPR\": tpr}\n",
    "df_roc = pd.DataFrame(roc_data)\n",
    "\n",
    "# Trazar la curva ROC con Plotly Express\n",
    "fig = px.line(\n",
    "    df_roc,\n",
    "    x=\"FPR\",\n",
    "    y=\"TPR\",\n",
    "    labels={\"FPR\": \"Tasa de falsos positivos\", \"TPR\": \"Tasa de verdaderos positivos\"},\n",
    "    title=\"Curva ROC\",\n",
    ")\n",
    "\n",
    "# Agregar una línea diagonal que representa el modelo aleatorio\n",
    "fig.add_shape(type=\"line\", line=dict(dash=\"dash\"), x0=0, x1=1, y0=0, y1=1)\n",
    "fig.update_layout(\n",
    "    width=800,  \n",
    "    height=450\n",
    ")\n",
    "# Mostrar la figura\n",
    "fig.show()"
   ]
  },
  {
   "cell_type": "markdown",
   "metadata": {},
   "source": [
    "## CONCLUSIÓN"
   ]
  },
  {
   "cell_type": "markdown",
   "metadata": {},
   "source": [
    "\n",
    "En este  se abordó la tarea de predecir la posible salida de clientes utilizando datos históricos. Se realizó una cuidadosa preparación de datos, se exploró el desequilibrio de clases y se entrenaron modelos, alcanzando un valor F1 de al menos 0.59 en el conjunto de prueba. Se implementaron estrategias efectivas para corregir el desequilibrio y se evaluó el rendimiento del modelo utilizando tanto F1 como AUC-ROC. El proyecto cumple con los criterios de evaluación, destacando la capacidad para abordar desafíos de desequilibrio de clases y lograr un rendimiento sólido del modelo."
   ]
  }
 ],
 "metadata": {
  "kernelspec": {
   "display_name": "Python 3",
   "language": "python",
   "name": "python3"
  },
  "language_info": {
   "codemirror_mode": {
    "name": "ipython",
    "version": 3
   },
   "file_extension": ".py",
   "mimetype": "text/x-python",
   "name": "python",
   "nbconvert_exporter": "python",
   "pygments_lexer": "ipython3",
   "version": "3.12.0"
  }
 },
 "nbformat": 4,
 "nbformat_minor": 2
}
