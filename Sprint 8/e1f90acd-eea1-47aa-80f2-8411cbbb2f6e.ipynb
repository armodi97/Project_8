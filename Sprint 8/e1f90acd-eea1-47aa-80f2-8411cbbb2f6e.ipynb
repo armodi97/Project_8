{
 "cells": [
  {
   "cell_type": "markdown",
   "metadata": {},
   "source": [
    "# ¡Hola, Jorge!  \n",
    "\n",
    "Mi nombre es Carlos Ortiz, soy code reviewer de TripleTen y voy a revisar el proyecto que acabas de desarrollar.\n",
    "\n",
    "Cuando vea un error la primera vez, lo señalaré. Deberás encontrarlo y arreglarlo. La intención es que te prepares para un espacio real de trabajo. En un trabajo, el líder de tu equipo hará lo mismo. Si no puedes solucionar el error, te daré más información en la próxima ocasión. \n",
    "\n",
    "Encontrarás mis comentarios más abajo - **por favor, no los muevas, no los modifiques ni los borres**.\n",
    "\n",
    "¿Cómo lo voy a hacer? Voy a leer detenidamente cada una de las implementaciones que has llevado a cabo para cumplir con lo solicitado. Verás los comentarios de esta forma:\n",
    "\n",
    "<div class=\"alert alert-block alert-success\">\n",
    "<b>Comentario del revisor</b> <a class=\"tocSkip\"></a>\n",
    "    \n",
    "Si todo está perfecto.\n",
    "</div>\n",
    "\n",
    "\n",
    "<div class=\"alert alert-block alert-warning\">\n",
    "<b>Comentario del revisor</b> <a class=\"tocSkip\"></a>\n",
    "    \n",
    "Si tu código está bien pero se puede mejorar o hay algún detalle que le hace falta.\n",
    "</div>\n",
    "\n",
    "\n",
    "<div class=\"alert alert-block alert-danger\">\n",
    "    \n",
    "<b>Comentario del revisor</b> <a class=\"tocSkip\"></a>\n",
    "    \n",
    "    \n",
    "Si de pronto hace falta algo o existe algún problema con tu código o conclusiones.\n",
    "</div>\n",
    "\n",
    "\n",
    "Puedes responderme de esta forma: \n",
    "\n",
    "\n",
    "<div class=\"alert alert-block alert-info\">\n",
    "<b>Respuesta del estudiante</b> <a class=\"tocSkip\"></a>\n",
    "</div>\n",
    "¡Empecemos!"
   ]
  },
  {
   "cell_type": "markdown",
   "metadata": {},
   "source": [
    "## INTRODUCCIÓN Y DESCARGA DE DATOS\n"
   ]
  },
  {
   "cell_type": "markdown",
   "metadata": {},
   "source": [
    "<div class=\"alert alert-block alert-info\">\n",
    "<b>Respuesta del estudiante</b> <a class=\"tocSkip\"></a>\n",
    "\n",
    "Hola Carlos, un detalle, al entrenar los modelos finales encontré una clase que me ayuda a seleccionar los mejores hiperparámetros, me funcionó, pero el detalle es que los entrenamientos duran bastante tiempo, no sé si exista algún timeout en la plataforma y por esto mismo escribí los prints debajo de los entrenamientos, la plataforma no me deja revisar el notebook ya para comprobar eso :/\n",
    "</div>\n",
    "¡Empecemos!"
   ]
  },
  {
   "cell_type": "markdown",
   "metadata": {},
   "source": [
    "En este proyecto analizaremos un dataset de clientes de un banco, entrenaremos varios modelos, seleccionaremos el mejor y haremos un análisis de los resultados"
   ]
  },
  {
   "cell_type": "markdown",
   "metadata": {},
   "source": [
    "<div class=\"alert alert-block alert-success\">\n",
    "<b>Comentario del revisor</b> <a class=\"tocSkip\"></a>\n",
    "    \n",
    "Agrega un título y una descripción del proyecto.\n",
    "</div>"
   ]
  },
  {
   "cell_type": "code",
   "execution_count": 34,
   "metadata": {},
   "outputs": [],
   "source": [
    "#pip install plotly_express"
   ]
  },
  {
   "cell_type": "code",
   "execution_count": 35,
   "metadata": {},
   "outputs": [],
   "source": [
    "# Importamos las librerías y clases necesarias\n",
    "import pandas as pd\n",
    "import numpy as np\n",
    "\n",
    "from sklearn.utils import shuffle\n",
    "from sklearn.metrics import f1_score, roc_auc_score, roc_curve, recall_score, precision_score\n",
    "\n",
    "from sklearn.ensemble import RandomForestClassifier\n",
    "from sklearn.linear_model import LogisticRegression\n",
    "from sklearn.tree import DecisionTreeClassifier\n",
    "\n",
    "from sklearn.preprocessing import  StandardScaler\n",
    "from sklearn.model_selection import train_test_split, GridSearchCV\n",
    "\n",
    "from collections import Counter\n",
    "from imblearn.over_sampling import SMOTE\n",
    "import plotly.express as px\n",
    "import re\n",
    "\n",
    "\n"
   ]
  },
  {
   "cell_type": "code",
   "execution_count": 36,
   "metadata": {},
   "outputs": [],
   "source": [
    "data = pd.read_csv('https://practicum-content.s3.us-west-1.amazonaws.com/datasets/Churn.csv')"
   ]
  },
  {
   "cell_type": "code",
   "execution_count": 37,
   "metadata": {},
   "outputs": [
    {
     "name": "stdout",
     "output_type": "stream",
     "text": [
      "<class 'pandas.core.frame.DataFrame'>\n",
      "RangeIndex: 10000 entries, 0 to 9999\n",
      "Data columns (total 14 columns):\n",
      " #   Column           Non-Null Count  Dtype  \n",
      "---  ------           --------------  -----  \n",
      " 0   RowNumber        10000 non-null  int64  \n",
      " 1   CustomerId       10000 non-null  int64  \n",
      " 2   Surname          10000 non-null  object \n",
      " 3   CreditScore      10000 non-null  int64  \n",
      " 4   Geography        10000 non-null  object \n",
      " 5   Gender           10000 non-null  object \n",
      " 6   Age              10000 non-null  int64  \n",
      " 7   Tenure           9091 non-null   float64\n",
      " 8   Balance          10000 non-null  float64\n",
      " 9   NumOfProducts    10000 non-null  int64  \n",
      " 10  HasCrCard        10000 non-null  int64  \n",
      " 11  IsActiveMember   10000 non-null  int64  \n",
      " 12  EstimatedSalary  10000 non-null  float64\n",
      " 13  Exited           10000 non-null  int64  \n",
      "dtypes: float64(3), int64(8), object(3)\n",
      "memory usage: 1.1+ MB\n"
     ]
    },
    {
     "data": {
      "text/plain": [
       "None"
      ]
     },
     "metadata": {},
     "output_type": "display_data"
    },
    {
     "data": {
      "text/html": [
       "<div>\n",
       "<style scoped>\n",
       "    .dataframe tbody tr th:only-of-type {\n",
       "        vertical-align: middle;\n",
       "    }\n",
       "\n",
       "    .dataframe tbody tr th {\n",
       "        vertical-align: top;\n",
       "    }\n",
       "\n",
       "    .dataframe thead th {\n",
       "        text-align: right;\n",
       "    }\n",
       "</style>\n",
       "<table border=\"1\" class=\"dataframe\">\n",
       "  <thead>\n",
       "    <tr style=\"text-align: right;\">\n",
       "      <th></th>\n",
       "      <th>RowNumber</th>\n",
       "      <th>CustomerId</th>\n",
       "      <th>Surname</th>\n",
       "      <th>CreditScore</th>\n",
       "      <th>Geography</th>\n",
       "      <th>Gender</th>\n",
       "      <th>Age</th>\n",
       "      <th>Tenure</th>\n",
       "      <th>Balance</th>\n",
       "      <th>NumOfProducts</th>\n",
       "      <th>HasCrCard</th>\n",
       "      <th>IsActiveMember</th>\n",
       "      <th>EstimatedSalary</th>\n",
       "      <th>Exited</th>\n",
       "    </tr>\n",
       "  </thead>\n",
       "  <tbody>\n",
       "    <tr>\n",
       "      <th>1016</th>\n",
       "      <td>1017</td>\n",
       "      <td>15770424</td>\n",
       "      <td>Onyeorulu</td>\n",
       "      <td>541</td>\n",
       "      <td>Germany</td>\n",
       "      <td>Male</td>\n",
       "      <td>40</td>\n",
       "      <td>7.0</td>\n",
       "      <td>95710.11</td>\n",
       "      <td>2</td>\n",
       "      <td>1</td>\n",
       "      <td>0</td>\n",
       "      <td>49063.42</td>\n",
       "      <td>0</td>\n",
       "    </tr>\n",
       "    <tr>\n",
       "      <th>9347</th>\n",
       "      <td>9348</td>\n",
       "      <td>15802809</td>\n",
       "      <td>Vidal</td>\n",
       "      <td>660</td>\n",
       "      <td>Spain</td>\n",
       "      <td>Female</td>\n",
       "      <td>36</td>\n",
       "      <td>0.0</td>\n",
       "      <td>84438.57</td>\n",
       "      <td>1</td>\n",
       "      <td>1</td>\n",
       "      <td>1</td>\n",
       "      <td>181449.51</td>\n",
       "      <td>0</td>\n",
       "    </tr>\n",
       "    <tr>\n",
       "      <th>4566</th>\n",
       "      <td>4567</td>\n",
       "      <td>15580682</td>\n",
       "      <td>Tsai</td>\n",
       "      <td>652</td>\n",
       "      <td>France</td>\n",
       "      <td>Female</td>\n",
       "      <td>40</td>\n",
       "      <td>4.0</td>\n",
       "      <td>79927.36</td>\n",
       "      <td>2</td>\n",
       "      <td>1</td>\n",
       "      <td>1</td>\n",
       "      <td>33524.60</td>\n",
       "      <td>0</td>\n",
       "    </tr>\n",
       "    <tr>\n",
       "      <th>5421</th>\n",
       "      <td>5422</td>\n",
       "      <td>15757661</td>\n",
       "      <td>Trevisano</td>\n",
       "      <td>589</td>\n",
       "      <td>France</td>\n",
       "      <td>Female</td>\n",
       "      <td>39</td>\n",
       "      <td>7.0</td>\n",
       "      <td>0.00</td>\n",
       "      <td>2</td>\n",
       "      <td>0</td>\n",
       "      <td>0</td>\n",
       "      <td>95985.64</td>\n",
       "      <td>0</td>\n",
       "    </tr>\n",
       "    <tr>\n",
       "      <th>3022</th>\n",
       "      <td>3023</td>\n",
       "      <td>15678168</td>\n",
       "      <td>Gibson</td>\n",
       "      <td>648</td>\n",
       "      <td>Spain</td>\n",
       "      <td>Female</td>\n",
       "      <td>27</td>\n",
       "      <td>7.0</td>\n",
       "      <td>0.00</td>\n",
       "      <td>2</td>\n",
       "      <td>1</td>\n",
       "      <td>1</td>\n",
       "      <td>163060.43</td>\n",
       "      <td>0</td>\n",
       "    </tr>\n",
       "    <tr>\n",
       "      <th>7678</th>\n",
       "      <td>7679</td>\n",
       "      <td>15690169</td>\n",
       "      <td>Meng</td>\n",
       "      <td>645</td>\n",
       "      <td>France</td>\n",
       "      <td>Male</td>\n",
       "      <td>31</td>\n",
       "      <td>NaN</td>\n",
       "      <td>161171.70</td>\n",
       "      <td>2</td>\n",
       "      <td>1</td>\n",
       "      <td>0</td>\n",
       "      <td>12599.94</td>\n",
       "      <td>1</td>\n",
       "    </tr>\n",
       "    <tr>\n",
       "      <th>9290</th>\n",
       "      <td>9291</td>\n",
       "      <td>15634591</td>\n",
       "      <td>Saunders</td>\n",
       "      <td>850</td>\n",
       "      <td>France</td>\n",
       "      <td>Male</td>\n",
       "      <td>33</td>\n",
       "      <td>8.0</td>\n",
       "      <td>73059.38</td>\n",
       "      <td>1</td>\n",
       "      <td>1</td>\n",
       "      <td>1</td>\n",
       "      <td>186281.00</td>\n",
       "      <td>0</td>\n",
       "    </tr>\n",
       "    <tr>\n",
       "      <th>9954</th>\n",
       "      <td>9955</td>\n",
       "      <td>15739850</td>\n",
       "      <td>Trentino</td>\n",
       "      <td>645</td>\n",
       "      <td>France</td>\n",
       "      <td>Male</td>\n",
       "      <td>45</td>\n",
       "      <td>6.0</td>\n",
       "      <td>155417.61</td>\n",
       "      <td>1</td>\n",
       "      <td>0</td>\n",
       "      <td>1</td>\n",
       "      <td>3449.22</td>\n",
       "      <td>0</td>\n",
       "    </tr>\n",
       "    <tr>\n",
       "      <th>3074</th>\n",
       "      <td>3075</td>\n",
       "      <td>15609653</td>\n",
       "      <td>Ifeatu</td>\n",
       "      <td>614</td>\n",
       "      <td>Germany</td>\n",
       "      <td>Female</td>\n",
       "      <td>44</td>\n",
       "      <td>6.0</td>\n",
       "      <td>118715.86</td>\n",
       "      <td>1</td>\n",
       "      <td>1</td>\n",
       "      <td>0</td>\n",
       "      <td>133591.11</td>\n",
       "      <td>1</td>\n",
       "    </tr>\n",
       "    <tr>\n",
       "      <th>1481</th>\n",
       "      <td>1482</td>\n",
       "      <td>15583748</td>\n",
       "      <td>McGuigan</td>\n",
       "      <td>592</td>\n",
       "      <td>Spain</td>\n",
       "      <td>Male</td>\n",
       "      <td>38</td>\n",
       "      <td>8.0</td>\n",
       "      <td>0.00</td>\n",
       "      <td>2</td>\n",
       "      <td>1</td>\n",
       "      <td>0</td>\n",
       "      <td>180426.20</td>\n",
       "      <td>0</td>\n",
       "    </tr>\n",
       "  </tbody>\n",
       "</table>\n",
       "</div>"
      ],
      "text/plain": [
       "      RowNumber  CustomerId    Surname  CreditScore Geography  Gender  Age  \\\n",
       "1016       1017    15770424  Onyeorulu          541   Germany    Male   40   \n",
       "9347       9348    15802809      Vidal          660     Spain  Female   36   \n",
       "4566       4567    15580682       Tsai          652    France  Female   40   \n",
       "5421       5422    15757661  Trevisano          589    France  Female   39   \n",
       "3022       3023    15678168     Gibson          648     Spain  Female   27   \n",
       "7678       7679    15690169       Meng          645    France    Male   31   \n",
       "9290       9291    15634591   Saunders          850    France    Male   33   \n",
       "9954       9955    15739850   Trentino          645    France    Male   45   \n",
       "3074       3075    15609653     Ifeatu          614   Germany  Female   44   \n",
       "1481       1482    15583748   McGuigan          592     Spain    Male   38   \n",
       "\n",
       "      Tenure    Balance  NumOfProducts  HasCrCard  IsActiveMember  \\\n",
       "1016     7.0   95710.11              2          1               0   \n",
       "9347     0.0   84438.57              1          1               1   \n",
       "4566     4.0   79927.36              2          1               1   \n",
       "5421     7.0       0.00              2          0               0   \n",
       "3022     7.0       0.00              2          1               1   \n",
       "7678     NaN  161171.70              2          1               0   \n",
       "9290     8.0   73059.38              1          1               1   \n",
       "9954     6.0  155417.61              1          0               1   \n",
       "3074     6.0  118715.86              1          1               0   \n",
       "1481     8.0       0.00              2          1               0   \n",
       "\n",
       "      EstimatedSalary  Exited  \n",
       "1016         49063.42       0  \n",
       "9347        181449.51       0  \n",
       "4566         33524.60       0  \n",
       "5421         95985.64       0  \n",
       "3022        163060.43       0  \n",
       "7678         12599.94       1  \n",
       "9290        186281.00       0  \n",
       "9954          3449.22       0  \n",
       "3074        133591.11       1  \n",
       "1481        180426.20       0  "
      ]
     },
     "metadata": {},
     "output_type": "display_data"
    }
   ],
   "source": [
    "#info de data\n",
    "display(data.info())\n",
    "display(data.sample(10))"
   ]
  },
  {
   "cell_type": "markdown",
   "metadata": {},
   "source": [
    "En este primer vistazo de los datos, nos damos cuenta que existen algunos valores ausentes en la columna \"Tenure\", la cual identifica  el tiempo de un depósito a plazo fijo de un cliente.\n",
    "Vamos a revisar más a detalle las filas con datos austentes en el siguiente apartado"
   ]
  },
  {
   "cell_type": "markdown",
   "metadata": {},
   "source": [
    "<div class=\"alert alert-block alert-danger\">\n",
    "<b>Comentario del revisor</b> <a class=\"tocSkip\"></a>\n",
    "    \n",
    "Separa la importación de datos de cualquier línea de código.\n",
    "</div>"
   ]
  },
  {
   "cell_type": "markdown",
   "metadata": {},
   "source": [
    "## PROCESAMIENTO DE DATOS"
   ]
  },
  {
   "cell_type": "code",
   "execution_count": 38,
   "metadata": {},
   "outputs": [
    {
     "data": {
      "text/html": [
       "<div>\n",
       "<style scoped>\n",
       "    .dataframe tbody tr th:only-of-type {\n",
       "        vertical-align: middle;\n",
       "    }\n",
       "\n",
       "    .dataframe tbody tr th {\n",
       "        vertical-align: top;\n",
       "    }\n",
       "\n",
       "    .dataframe thead th {\n",
       "        text-align: right;\n",
       "    }\n",
       "</style>\n",
       "<table border=\"1\" class=\"dataframe\">\n",
       "  <thead>\n",
       "    <tr style=\"text-align: right;\">\n",
       "      <th></th>\n",
       "      <th>row_number</th>\n",
       "      <th>customer_id</th>\n",
       "      <th>surname</th>\n",
       "      <th>credit_score</th>\n",
       "      <th>geography</th>\n",
       "      <th>gender</th>\n",
       "      <th>age</th>\n",
       "      <th>tenure</th>\n",
       "      <th>balance</th>\n",
       "      <th>num_of_products</th>\n",
       "      <th>has_cr_card</th>\n",
       "      <th>is_active_member</th>\n",
       "      <th>estimated_salary</th>\n",
       "      <th>exited</th>\n",
       "    </tr>\n",
       "  </thead>\n",
       "  <tbody>\n",
       "    <tr>\n",
       "      <th>7190</th>\n",
       "      <td>7191</td>\n",
       "      <td>15774262</td>\n",
       "      <td>Hobson</td>\n",
       "      <td>597</td>\n",
       "      <td>Germany</td>\n",
       "      <td>Male</td>\n",
       "      <td>52</td>\n",
       "      <td>NaN</td>\n",
       "      <td>83693.34</td>\n",
       "      <td>2</td>\n",
       "      <td>1</td>\n",
       "      <td>1</td>\n",
       "      <td>161083.53</td>\n",
       "      <td>0</td>\n",
       "    </tr>\n",
       "    <tr>\n",
       "      <th>9619</th>\n",
       "      <td>9620</td>\n",
       "      <td>15779973</td>\n",
       "      <td>Gibbons</td>\n",
       "      <td>684</td>\n",
       "      <td>Germany</td>\n",
       "      <td>Male</td>\n",
       "      <td>35</td>\n",
       "      <td>NaN</td>\n",
       "      <td>99967.76</td>\n",
       "      <td>1</td>\n",
       "      <td>1</td>\n",
       "      <td>1</td>\n",
       "      <td>176882.08</td>\n",
       "      <td>0</td>\n",
       "    </tr>\n",
       "    <tr>\n",
       "      <th>8633</th>\n",
       "      <td>8634</td>\n",
       "      <td>15801414</td>\n",
       "      <td>Bitter</td>\n",
       "      <td>767</td>\n",
       "      <td>France</td>\n",
       "      <td>Female</td>\n",
       "      <td>35</td>\n",
       "      <td>NaN</td>\n",
       "      <td>0.00</td>\n",
       "      <td>2</td>\n",
       "      <td>0</td>\n",
       "      <td>0</td>\n",
       "      <td>144251.38</td>\n",
       "      <td>0</td>\n",
       "    </tr>\n",
       "    <tr>\n",
       "      <th>4328</th>\n",
       "      <td>4329</td>\n",
       "      <td>15622527</td>\n",
       "      <td>Holloway</td>\n",
       "      <td>581</td>\n",
       "      <td>France</td>\n",
       "      <td>Female</td>\n",
       "      <td>55</td>\n",
       "      <td>NaN</td>\n",
       "      <td>0.00</td>\n",
       "      <td>1</td>\n",
       "      <td>1</td>\n",
       "      <td>1</td>\n",
       "      <td>22442.13</td>\n",
       "      <td>0</td>\n",
       "    </tr>\n",
       "    <tr>\n",
       "      <th>7123</th>\n",
       "      <td>7124</td>\n",
       "      <td>15682686</td>\n",
       "      <td>Chukwuemeka</td>\n",
       "      <td>722</td>\n",
       "      <td>France</td>\n",
       "      <td>Female</td>\n",
       "      <td>38</td>\n",
       "      <td>NaN</td>\n",
       "      <td>0.00</td>\n",
       "      <td>2</td>\n",
       "      <td>0</td>\n",
       "      <td>1</td>\n",
       "      <td>167984.72</td>\n",
       "      <td>0</td>\n",
       "    </tr>\n",
       "    <tr>\n",
       "      <th>4371</th>\n",
       "      <td>4372</td>\n",
       "      <td>15714391</td>\n",
       "      <td>Lai</td>\n",
       "      <td>563</td>\n",
       "      <td>France</td>\n",
       "      <td>Female</td>\n",
       "      <td>35</td>\n",
       "      <td>NaN</td>\n",
       "      <td>183572.84</td>\n",
       "      <td>1</td>\n",
       "      <td>1</td>\n",
       "      <td>1</td>\n",
       "      <td>66006.75</td>\n",
       "      <td>1</td>\n",
       "    </tr>\n",
       "    <tr>\n",
       "      <th>9695</th>\n",
       "      <td>9696</td>\n",
       "      <td>15658675</td>\n",
       "      <td>Ts'ao</td>\n",
       "      <td>710</td>\n",
       "      <td>Germany</td>\n",
       "      <td>Male</td>\n",
       "      <td>37</td>\n",
       "      <td>NaN</td>\n",
       "      <td>135795.63</td>\n",
       "      <td>1</td>\n",
       "      <td>0</td>\n",
       "      <td>1</td>\n",
       "      <td>46523.60</td>\n",
       "      <td>0</td>\n",
       "    </tr>\n",
       "    <tr>\n",
       "      <th>4350</th>\n",
       "      <td>4351</td>\n",
       "      <td>15754072</td>\n",
       "      <td>Dennis</td>\n",
       "      <td>840</td>\n",
       "      <td>Spain</td>\n",
       "      <td>Female</td>\n",
       "      <td>36</td>\n",
       "      <td>NaN</td>\n",
       "      <td>0.00</td>\n",
       "      <td>2</td>\n",
       "      <td>1</td>\n",
       "      <td>0</td>\n",
       "      <td>141364.27</td>\n",
       "      <td>0</td>\n",
       "    </tr>\n",
       "    <tr>\n",
       "      <th>8929</th>\n",
       "      <td>8930</td>\n",
       "      <td>15675141</td>\n",
       "      <td>Fraser</td>\n",
       "      <td>569</td>\n",
       "      <td>France</td>\n",
       "      <td>Female</td>\n",
       "      <td>35</td>\n",
       "      <td>NaN</td>\n",
       "      <td>93934.63</td>\n",
       "      <td>1</td>\n",
       "      <td>1</td>\n",
       "      <td>0</td>\n",
       "      <td>184748.23</td>\n",
       "      <td>0</td>\n",
       "    </tr>\n",
       "    <tr>\n",
       "      <th>8814</th>\n",
       "      <td>8815</td>\n",
       "      <td>15589725</td>\n",
       "      <td>Zubarev</td>\n",
       "      <td>740</td>\n",
       "      <td>France</td>\n",
       "      <td>Female</td>\n",
       "      <td>51</td>\n",
       "      <td>NaN</td>\n",
       "      <td>0.00</td>\n",
       "      <td>2</td>\n",
       "      <td>1</td>\n",
       "      <td>1</td>\n",
       "      <td>178929.84</td>\n",
       "      <td>0</td>\n",
       "    </tr>\n",
       "    <tr>\n",
       "      <th>8792</th>\n",
       "      <td>8793</td>\n",
       "      <td>15766137</td>\n",
       "      <td>Muir</td>\n",
       "      <td>497</td>\n",
       "      <td>France</td>\n",
       "      <td>Male</td>\n",
       "      <td>34</td>\n",
       "      <td>NaN</td>\n",
       "      <td>0.00</td>\n",
       "      <td>2</td>\n",
       "      <td>1</td>\n",
       "      <td>1</td>\n",
       "      <td>83087.13</td>\n",
       "      <td>0</td>\n",
       "    </tr>\n",
       "    <tr>\n",
       "      <th>686</th>\n",
       "      <td>687</td>\n",
       "      <td>15801277</td>\n",
       "      <td>Maccallum</td>\n",
       "      <td>715</td>\n",
       "      <td>France</td>\n",
       "      <td>Female</td>\n",
       "      <td>31</td>\n",
       "      <td>NaN</td>\n",
       "      <td>112212.14</td>\n",
       "      <td>2</td>\n",
       "      <td>1</td>\n",
       "      <td>1</td>\n",
       "      <td>181600.72</td>\n",
       "      <td>0</td>\n",
       "    </tr>\n",
       "    <tr>\n",
       "      <th>4375</th>\n",
       "      <td>4376</td>\n",
       "      <td>15616555</td>\n",
       "      <td>Fu</td>\n",
       "      <td>850</td>\n",
       "      <td>Germany</td>\n",
       "      <td>Male</td>\n",
       "      <td>41</td>\n",
       "      <td>NaN</td>\n",
       "      <td>60880.68</td>\n",
       "      <td>1</td>\n",
       "      <td>1</td>\n",
       "      <td>0</td>\n",
       "      <td>31825.84</td>\n",
       "      <td>0</td>\n",
       "    </tr>\n",
       "    <tr>\n",
       "      <th>2277</th>\n",
       "      <td>2278</td>\n",
       "      <td>15667620</td>\n",
       "      <td>Dreyer</td>\n",
       "      <td>732</td>\n",
       "      <td>France</td>\n",
       "      <td>Female</td>\n",
       "      <td>43</td>\n",
       "      <td>NaN</td>\n",
       "      <td>0.00</td>\n",
       "      <td>2</td>\n",
       "      <td>1</td>\n",
       "      <td>0</td>\n",
       "      <td>65731.53</td>\n",
       "      <td>0</td>\n",
       "    </tr>\n",
       "    <tr>\n",
       "      <th>2897</th>\n",
       "      <td>2898</td>\n",
       "      <td>15664150</td>\n",
       "      <td>Holland</td>\n",
       "      <td>528</td>\n",
       "      <td>Germany</td>\n",
       "      <td>Female</td>\n",
       "      <td>29</td>\n",
       "      <td>NaN</td>\n",
       "      <td>170214.23</td>\n",
       "      <td>2</td>\n",
       "      <td>1</td>\n",
       "      <td>0</td>\n",
       "      <td>49284.00</td>\n",
       "      <td>0</td>\n",
       "    </tr>\n",
       "    <tr>\n",
       "      <th>869</th>\n",
       "      <td>870</td>\n",
       "      <td>15710424</td>\n",
       "      <td>Page</td>\n",
       "      <td>435</td>\n",
       "      <td>France</td>\n",
       "      <td>Male</td>\n",
       "      <td>36</td>\n",
       "      <td>NaN</td>\n",
       "      <td>0.00</td>\n",
       "      <td>1</td>\n",
       "      <td>1</td>\n",
       "      <td>1</td>\n",
       "      <td>197015.20</td>\n",
       "      <td>0</td>\n",
       "    </tr>\n",
       "    <tr>\n",
       "      <th>2258</th>\n",
       "      <td>2259</td>\n",
       "      <td>15776631</td>\n",
       "      <td>Ma</td>\n",
       "      <td>466</td>\n",
       "      <td>France</td>\n",
       "      <td>Female</td>\n",
       "      <td>36</td>\n",
       "      <td>NaN</td>\n",
       "      <td>119540.15</td>\n",
       "      <td>1</td>\n",
       "      <td>0</td>\n",
       "      <td>1</td>\n",
       "      <td>80603.99</td>\n",
       "      <td>0</td>\n",
       "    </tr>\n",
       "    <tr>\n",
       "      <th>1281</th>\n",
       "      <td>1282</td>\n",
       "      <td>15779182</td>\n",
       "      <td>Chia</td>\n",
       "      <td>790</td>\n",
       "      <td>Spain</td>\n",
       "      <td>Male</td>\n",
       "      <td>46</td>\n",
       "      <td>NaN</td>\n",
       "      <td>182364.53</td>\n",
       "      <td>1</td>\n",
       "      <td>0</td>\n",
       "      <td>0</td>\n",
       "      <td>139266.48</td>\n",
       "      <td>1</td>\n",
       "    </tr>\n",
       "    <tr>\n",
       "      <th>828</th>\n",
       "      <td>829</td>\n",
       "      <td>15596914</td>\n",
       "      <td>Shaw</td>\n",
       "      <td>630</td>\n",
       "      <td>Germany</td>\n",
       "      <td>Female</td>\n",
       "      <td>31</td>\n",
       "      <td>NaN</td>\n",
       "      <td>112373.49</td>\n",
       "      <td>2</td>\n",
       "      <td>1</td>\n",
       "      <td>1</td>\n",
       "      <td>131167.98</td>\n",
       "      <td>0</td>\n",
       "    </tr>\n",
       "    <tr>\n",
       "      <th>2968</th>\n",
       "      <td>2969</td>\n",
       "      <td>15756932</td>\n",
       "      <td>Caldwell</td>\n",
       "      <td>696</td>\n",
       "      <td>Spain</td>\n",
       "      <td>Female</td>\n",
       "      <td>36</td>\n",
       "      <td>NaN</td>\n",
       "      <td>0.00</td>\n",
       "      <td>2</td>\n",
       "      <td>1</td>\n",
       "      <td>1</td>\n",
       "      <td>82298.59</td>\n",
       "      <td>0</td>\n",
       "    </tr>\n",
       "  </tbody>\n",
       "</table>\n",
       "</div>"
      ],
      "text/plain": [
       "      row_number  customer_id      surname  credit_score geography  gender  \\\n",
       "7190        7191     15774262       Hobson           597   Germany    Male   \n",
       "9619        9620     15779973      Gibbons           684   Germany    Male   \n",
       "8633        8634     15801414       Bitter           767    France  Female   \n",
       "4328        4329     15622527     Holloway           581    France  Female   \n",
       "7123        7124     15682686  Chukwuemeka           722    France  Female   \n",
       "4371        4372     15714391          Lai           563    France  Female   \n",
       "9695        9696     15658675        Ts'ao           710   Germany    Male   \n",
       "4350        4351     15754072       Dennis           840     Spain  Female   \n",
       "8929        8930     15675141       Fraser           569    France  Female   \n",
       "8814        8815     15589725      Zubarev           740    France  Female   \n",
       "8792        8793     15766137         Muir           497    France    Male   \n",
       "686          687     15801277    Maccallum           715    France  Female   \n",
       "4375        4376     15616555           Fu           850   Germany    Male   \n",
       "2277        2278     15667620       Dreyer           732    France  Female   \n",
       "2897        2898     15664150      Holland           528   Germany  Female   \n",
       "869          870     15710424         Page           435    France    Male   \n",
       "2258        2259     15776631           Ma           466    France  Female   \n",
       "1281        1282     15779182         Chia           790     Spain    Male   \n",
       "828          829     15596914         Shaw           630   Germany  Female   \n",
       "2968        2969     15756932     Caldwell           696     Spain  Female   \n",
       "\n",
       "      age  tenure    balance  num_of_products  has_cr_card  is_active_member  \\\n",
       "7190   52     NaN   83693.34                2            1                 1   \n",
       "9619   35     NaN   99967.76                1            1                 1   \n",
       "8633   35     NaN       0.00                2            0                 0   \n",
       "4328   55     NaN       0.00                1            1                 1   \n",
       "7123   38     NaN       0.00                2            0                 1   \n",
       "4371   35     NaN  183572.84                1            1                 1   \n",
       "9695   37     NaN  135795.63                1            0                 1   \n",
       "4350   36     NaN       0.00                2            1                 0   \n",
       "8929   35     NaN   93934.63                1            1                 0   \n",
       "8814   51     NaN       0.00                2            1                 1   \n",
       "8792   34     NaN       0.00                2            1                 1   \n",
       "686    31     NaN  112212.14                2            1                 1   \n",
       "4375   41     NaN   60880.68                1            1                 0   \n",
       "2277   43     NaN       0.00                2            1                 0   \n",
       "2897   29     NaN  170214.23                2            1                 0   \n",
       "869    36     NaN       0.00                1            1                 1   \n",
       "2258   36     NaN  119540.15                1            0                 1   \n",
       "1281   46     NaN  182364.53                1            0                 0   \n",
       "828    31     NaN  112373.49                2            1                 1   \n",
       "2968   36     NaN       0.00                2            1                 1   \n",
       "\n",
       "      estimated_salary  exited  \n",
       "7190         161083.53       0  \n",
       "9619         176882.08       0  \n",
       "8633         144251.38       0  \n",
       "4328          22442.13       0  \n",
       "7123         167984.72       0  \n",
       "4371          66006.75       1  \n",
       "9695          46523.60       0  \n",
       "4350         141364.27       0  \n",
       "8929         184748.23       0  \n",
       "8814         178929.84       0  \n",
       "8792          83087.13       0  \n",
       "686          181600.72       0  \n",
       "4375          31825.84       0  \n",
       "2277          65731.53       0  \n",
       "2897          49284.00       0  \n",
       "869          197015.20       0  \n",
       "2258          80603.99       0  \n",
       "1281         139266.48       1  \n",
       "828          131167.98       0  \n",
       "2968          82298.59       0  "
      ]
     },
     "metadata": {},
     "output_type": "display_data"
    }
   ],
   "source": [
    "#snake_case\n",
    "data.rename(columns=lambda x: re.sub(r'(?<!^)(?=[A-Z])', '_', x).lower(), inplace=True)\n",
    "#Mostramos las filas con datos ausentes\n",
    "display(data[data[\"tenure\"].isna()].sample(20))"
   ]
  },
  {
   "cell_type": "code",
   "execution_count": 39,
   "metadata": {
    "scrolled": true
   },
   "outputs": [
    {
     "name": "stdout",
     "output_type": "stream",
     "text": [
      "<class 'pandas.core.series.Series'>\n",
      "RangeIndex: 10000 entries, 0 to 9999\n",
      "Series name: tenure\n",
      "Non-Null Count  Dtype  \n",
      "--------------  -----  \n",
      "10000 non-null  float64\n",
      "dtypes: float64(1)\n",
      "memory usage: 78.3 KB\n"
     ]
    },
    {
     "data": {
      "text/plain": [
       "None"
      ]
     },
     "metadata": {},
     "output_type": "display_data"
    }
   ],
   "source": [
    "#reemplazamos los valores nan con la mediana de la columna\n",
    "data[\"tenure\"].fillna(data[\"tenure\"].median(),inplace=True)\n",
    "display(data[\"tenure\"].info())"
   ]
  },
  {
   "cell_type": "markdown",
   "metadata": {},
   "source": [
    "<div class=\"alert alert-block alert-danger\">\n",
    "<b>Comentario del revisor</b> <a class=\"tocSkip\"></a>\n",
    "    \n",
    "Esta estrategia no es recomendable por dos razones:\n",
    " \n",
    "1. Es posible que el valor 11 no exista en la escala de `Tenure`.\n",
    "2. El valor de 0 afectará los cálculos que se realizarán en los modelos.\n",
    "    \n",
    "Sugiero realizar una imputación con estadísticos condicionados (media o mediana).\n",
    "</div>"
   ]
  },
  {
   "cell_type": "markdown",
   "metadata": {},
   "source": [
    "<div class=\"alert alert-block alert-danger\">\n",
    "<b>Comentario del revisor</b> <a class=\"tocSkip\"></a>\n",
    "    \n",
    "Asegúrate de aplicar `snake_case` a los nombres de las columnas.\n",
    "</div>"
   ]
  },
  {
   "cell_type": "code",
   "execution_count": 40,
   "metadata": {
    "scrolled": true
   },
   "outputs": [
    {
     "data": {
      "text/html": [
       "<div>\n",
       "<style scoped>\n",
       "    .dataframe tbody tr th:only-of-type {\n",
       "        vertical-align: middle;\n",
       "    }\n",
       "\n",
       "    .dataframe tbody tr th {\n",
       "        vertical-align: top;\n",
       "    }\n",
       "\n",
       "    .dataframe thead th {\n",
       "        text-align: right;\n",
       "    }\n",
       "</style>\n",
       "<table border=\"1\" class=\"dataframe\">\n",
       "  <thead>\n",
       "    <tr style=\"text-align: right;\">\n",
       "      <th></th>\n",
       "      <th>credit_score</th>\n",
       "      <th>age</th>\n",
       "      <th>tenure</th>\n",
       "      <th>balance</th>\n",
       "      <th>num_of_products</th>\n",
       "      <th>has_cr_card</th>\n",
       "      <th>is_active_member</th>\n",
       "      <th>estimated_salary</th>\n",
       "      <th>geography_Germany</th>\n",
       "      <th>geography_Spain</th>\n",
       "      <th>gender_Male</th>\n",
       "    </tr>\n",
       "  </thead>\n",
       "  <tbody>\n",
       "    <tr>\n",
       "      <th>0</th>\n",
       "      <td>-0.326221</td>\n",
       "      <td>0.293517</td>\n",
       "      <td>-1.086246</td>\n",
       "      <td>-1.225848</td>\n",
       "      <td>-0.911583</td>\n",
       "      <td>1</td>\n",
       "      <td>1</td>\n",
       "      <td>0.021886</td>\n",
       "      <td>False</td>\n",
       "      <td>False</td>\n",
       "      <td>False</td>\n",
       "    </tr>\n",
       "    <tr>\n",
       "      <th>1</th>\n",
       "      <td>-0.440036</td>\n",
       "      <td>0.198164</td>\n",
       "      <td>-1.448581</td>\n",
       "      <td>0.117350</td>\n",
       "      <td>-0.911583</td>\n",
       "      <td>0</td>\n",
       "      <td>1</td>\n",
       "      <td>0.216534</td>\n",
       "      <td>False</td>\n",
       "      <td>True</td>\n",
       "      <td>False</td>\n",
       "    </tr>\n",
       "    <tr>\n",
       "      <th>2</th>\n",
       "      <td>-1.536794</td>\n",
       "      <td>0.293517</td>\n",
       "      <td>1.087768</td>\n",
       "      <td>1.333053</td>\n",
       "      <td>2.527057</td>\n",
       "      <td>1</td>\n",
       "      <td>0</td>\n",
       "      <td>0.240687</td>\n",
       "      <td>False</td>\n",
       "      <td>False</td>\n",
       "      <td>False</td>\n",
       "    </tr>\n",
       "    <tr>\n",
       "      <th>3</th>\n",
       "      <td>0.501521</td>\n",
       "      <td>0.007457</td>\n",
       "      <td>-1.448581</td>\n",
       "      <td>-1.225848</td>\n",
       "      <td>0.807737</td>\n",
       "      <td>0</td>\n",
       "      <td>0</td>\n",
       "      <td>-0.108918</td>\n",
       "      <td>False</td>\n",
       "      <td>False</td>\n",
       "      <td>False</td>\n",
       "    </tr>\n",
       "    <tr>\n",
       "      <th>4</th>\n",
       "      <td>2.063884</td>\n",
       "      <td>0.388871</td>\n",
       "      <td>-1.086246</td>\n",
       "      <td>0.785728</td>\n",
       "      <td>-0.911583</td>\n",
       "      <td>1</td>\n",
       "      <td>1</td>\n",
       "      <td>-0.365276</td>\n",
       "      <td>False</td>\n",
       "      <td>True</td>\n",
       "      <td>False</td>\n",
       "    </tr>\n",
       "    <tr>\n",
       "      <th>...</th>\n",
       "      <td>...</td>\n",
       "      <td>...</td>\n",
       "      <td>...</td>\n",
       "      <td>...</td>\n",
       "      <td>...</td>\n",
       "      <td>...</td>\n",
       "      <td>...</td>\n",
       "      <td>...</td>\n",
       "      <td>...</td>\n",
       "      <td>...</td>\n",
       "      <td>...</td>\n",
       "    </tr>\n",
       "    <tr>\n",
       "      <th>9995</th>\n",
       "      <td>1.246488</td>\n",
       "      <td>0.007457</td>\n",
       "      <td>0.000761</td>\n",
       "      <td>-1.225848</td>\n",
       "      <td>0.807737</td>\n",
       "      <td>1</td>\n",
       "      <td>0</td>\n",
       "      <td>-0.066419</td>\n",
       "      <td>False</td>\n",
       "      <td>False</td>\n",
       "      <td>True</td>\n",
       "    </tr>\n",
       "    <tr>\n",
       "      <th>9996</th>\n",
       "      <td>-1.391939</td>\n",
       "      <td>-0.373958</td>\n",
       "      <td>1.812439</td>\n",
       "      <td>-0.306379</td>\n",
       "      <td>-0.911583</td>\n",
       "      <td>1</td>\n",
       "      <td>1</td>\n",
       "      <td>0.027988</td>\n",
       "      <td>False</td>\n",
       "      <td>False</td>\n",
       "      <td>True</td>\n",
       "    </tr>\n",
       "    <tr>\n",
       "      <th>9997</th>\n",
       "      <td>0.604988</td>\n",
       "      <td>-0.278604</td>\n",
       "      <td>0.725432</td>\n",
       "      <td>-1.225848</td>\n",
       "      <td>-0.911583</td>\n",
       "      <td>0</td>\n",
       "      <td>1</td>\n",
       "      <td>-1.008643</td>\n",
       "      <td>False</td>\n",
       "      <td>False</td>\n",
       "      <td>False</td>\n",
       "    </tr>\n",
       "    <tr>\n",
       "      <th>9998</th>\n",
       "      <td>1.256835</td>\n",
       "      <td>0.293517</td>\n",
       "      <td>-0.723910</td>\n",
       "      <td>-0.022608</td>\n",
       "      <td>0.807737</td>\n",
       "      <td>1</td>\n",
       "      <td>0</td>\n",
       "      <td>-0.125231</td>\n",
       "      <td>True</td>\n",
       "      <td>False</td>\n",
       "      <td>True</td>\n",
       "    </tr>\n",
       "    <tr>\n",
       "      <th>9999</th>\n",
       "      <td>1.463771</td>\n",
       "      <td>-1.041433</td>\n",
       "      <td>0.000761</td>\n",
       "      <td>0.859965</td>\n",
       "      <td>-0.911583</td>\n",
       "      <td>1</td>\n",
       "      <td>0</td>\n",
       "      <td>-1.076370</td>\n",
       "      <td>False</td>\n",
       "      <td>False</td>\n",
       "      <td>False</td>\n",
       "    </tr>\n",
       "  </tbody>\n",
       "</table>\n",
       "<p>10000 rows × 11 columns</p>\n",
       "</div>"
      ],
      "text/plain": [
       "      credit_score       age    tenure   balance  num_of_products  \\\n",
       "0        -0.326221  0.293517 -1.086246 -1.225848        -0.911583   \n",
       "1        -0.440036  0.198164 -1.448581  0.117350        -0.911583   \n",
       "2        -1.536794  0.293517  1.087768  1.333053         2.527057   \n",
       "3         0.501521  0.007457 -1.448581 -1.225848         0.807737   \n",
       "4         2.063884  0.388871 -1.086246  0.785728        -0.911583   \n",
       "...            ...       ...       ...       ...              ...   \n",
       "9995      1.246488  0.007457  0.000761 -1.225848         0.807737   \n",
       "9996     -1.391939 -0.373958  1.812439 -0.306379        -0.911583   \n",
       "9997      0.604988 -0.278604  0.725432 -1.225848        -0.911583   \n",
       "9998      1.256835  0.293517 -0.723910 -0.022608         0.807737   \n",
       "9999      1.463771 -1.041433  0.000761  0.859965        -0.911583   \n",
       "\n",
       "      has_cr_card  is_active_member  estimated_salary  geography_Germany  \\\n",
       "0               1                 1          0.021886              False   \n",
       "1               0                 1          0.216534              False   \n",
       "2               1                 0          0.240687              False   \n",
       "3               0                 0         -0.108918              False   \n",
       "4               1                 1         -0.365276              False   \n",
       "...           ...               ...               ...                ...   \n",
       "9995            1                 0         -0.066419              False   \n",
       "9996            1                 1          0.027988              False   \n",
       "9997            0                 1         -1.008643              False   \n",
       "9998            1                 0         -0.125231               True   \n",
       "9999            1                 0         -1.076370              False   \n",
       "\n",
       "      geography_Spain  gender_Male  \n",
       "0               False        False  \n",
       "1                True        False  \n",
       "2               False        False  \n",
       "3               False        False  \n",
       "4                True        False  \n",
       "...               ...          ...  \n",
       "9995            False         True  \n",
       "9996            False         True  \n",
       "9997            False        False  \n",
       "9998            False         True  \n",
       "9999            False        False  \n",
       "\n",
       "[10000 rows x 11 columns]"
      ]
     },
     "metadata": {},
     "output_type": "display_data"
    }
   ],
   "source": [
    "# Codificación one-hot: obtén características dummy\n",
    "data_ohe = pd.get_dummies(data.drop([\"surname\",\"row_number\",\"customer_id\"], axis=1), drop_first=True)\n",
    "\n",
    "#Separación de características\n",
    "features= data_ohe.drop(\"exited\", axis=1)\n",
    "target = data_ohe[\"exited\"]\n",
    "\n",
    "# Estandarización\n",
    "numeric_columns=[\"credit_score\",\"age\",\"tenure\",\"balance\",\"estimated_salary\",\"num_of_products\"]\n",
    "scaler = StandardScaler()\n",
    "scaler.fit(features[numeric_columns])\n",
    "data_scaled = scaler.transform(features[numeric_columns])\n",
    "features[numeric_columns]= data_scaled\n",
    "\n",
    "display(features)\n",
    "\n",
    "#División de los datos en conjuntos de entrenamiento y validación\n",
    "features_train, features_valid, target_train, target_valid = train_test_split(features,target, test_size= 0.25, random_state=99)\n",
    "\n",
    "\n"
   ]
  },
  {
   "cell_type": "markdown",
   "metadata": {},
   "source": [
    "<div class=\"alert alert-block alert-danger\">\n",
    "<b>Comentario del revisor</b> <a class=\"tocSkip\"></a>\n",
    "    \n",
    "El escalamiento debes hacerlo después de la separación de datos. De lo contrario es como si tuviésemos la capacidad de ver los datos que van a llegar en el futuro.\n",
    "</div>"
   ]
  },
  {
   "cell_type": "code",
   "execution_count": 41,
   "metadata": {},
   "outputs": [
    {
     "name": "stdout",
     "output_type": "stream",
     "text": [
      "RANDOM FOREST\n",
      "Precisión: 0.8404669260700389\n",
      "Recall: 0.4161849710982659\n",
      "F1: 0.5567010309278351\n",
      "Área bajo la curva ROC: 0.8737349716332129\n",
      "------------------------------------\n",
      "REGRESION LOGISTICA\n",
      "Precisión: 0.6763005780346821\n",
      "Recall: 0.2254335260115607\n",
      "F1: 0.33815028901734107\n",
      "Área bajo la curva ROC: 0.7679204854596509\n",
      "------------------------------------\n",
      "DECISION TREE CLASIFIER\n",
      "Precisión: 0.7919463087248322\n",
      "Recall: 0.45472061657032753\n",
      "F1: 0.5777233782129743\n",
      "Área bajo la curva ROC: 0.840623203671877\n",
      "------------------------------------\n"
     ]
    }
   ],
   "source": [
    "#Entrenamiento de RANDOM FOREST CLASSIFICATOR\n",
    "#Entrenamos el modelo\n",
    "model = RandomForestClassifier(random_state=99, max_depth=7)\n",
    "model.fit(features_train,target_train)\n",
    "predictions = model.predict(features_valid)\n",
    "\n",
    "#verfificamos las metricas del modelo\n",
    "probabilities_valid = model.predict_proba(features_valid)\n",
    "probabilities_one_valid = probabilities_valid[:, 1]\n",
    "\n",
    "print(\"RANDOM FOREST\")\n",
    "print(\"Precisión:\", precision_score(target_valid, predictions))\n",
    "print(\"Recall:\", recall_score(target_valid, predictions))\n",
    "print(\"F1:\", f1_score(target_valid, predictions))\n",
    "print(\"Área bajo la curva ROC:\", roc_auc_score(target_valid,probabilities_one_valid))\n",
    "print(\"------------------------------------\")\n",
    "\n",
    "\n",
    "#Entrenamiento de LOGISTIC REGRESSION\n",
    "#Entrenamos el modelo\n",
    "model = LogisticRegression(random_state=99, solver=\"liblinear\")\n",
    "model.fit(features_train,target_train)\n",
    "predictions = model.predict(features_valid)\n",
    "\n",
    "#verfificamos las metricas del modelo\n",
    "probabilities_valid = model.predict_proba(features_valid)\n",
    "probabilities_one_valid = probabilities_valid[:, 1]\n",
    "\n",
    "print(\"REGRESION LOGISTICA\")\n",
    "print(\"Precisión:\", precision_score(target_valid, predictions))\n",
    "print(\"Recall:\", recall_score(target_valid, predictions))\n",
    "print(\"F1:\", f1_score(target_valid, predictions))\n",
    "print(\"Área bajo la curva ROC:\", roc_auc_score(target_valid,probabilities_one_valid))\n",
    "print(\"------------------------------------\")\n",
    "\n",
    "\n",
    "#Entrenamiento de DECISIN TREE CLASIFIER\n",
    "#Entrenamos el modelo\n",
    "model = DecisionTreeClassifier(random_state=99, max_depth= 7)\n",
    "model.fit(features_train,target_train)\n",
    "predictions = model.predict(features_valid)\n",
    "\n",
    "#verfificamos las metricas del modelo\n",
    "probabilities_valid = model.predict_proba(features_valid)\n",
    "probabilities_one_valid = probabilities_valid[:, 1]\n",
    "\n",
    "print(\"DECISION TREE CLASIFIER\")\n",
    "print(\"Precisión:\", precision_score(target_valid, predictions))\n",
    "print(\"Recall:\", recall_score(target_valid, predictions))\n",
    "print(\"F1:\", f1_score(target_valid, predictions))\n",
    "print(\"Área bajo la curva ROC:\", roc_auc_score(target_valid,probabilities_one_valid))\n",
    "print(\"------------------------------------\")"
   ]
  },
  {
   "cell_type": "markdown",
   "metadata": {},
   "source": [
    "## EQUILIBRIO DE CLASES\n"
   ]
  },
  {
   "cell_type": "code",
   "execution_count": 42,
   "metadata": {},
   "outputs": [
    {
     "data": {
      "text/plain": [
       "exited\n",
       "0    5982\n",
       "1    1518\n",
       "Name: count, dtype: int64"
      ]
     },
     "execution_count": 42,
     "metadata": {},
     "output_type": "execute_result"
    }
   ],
   "source": [
    "target_train.value_counts()"
   ]
  },
  {
   "cell_type": "markdown",
   "metadata": {},
   "source": [
    "Con estos datos nos damos cuenta que tenemos un problema de desequilibrio de clases, que podría estar afectando el entrenamiento de nuestros modelos"
   ]
  },
  {
   "cell_type": "code",
   "execution_count": 43,
   "metadata": {},
   "outputs": [
    {
     "name": "stdout",
     "output_type": "stream",
     "text": [
      "Counter({0: 5982, 1: 1518})\n",
      "Counter({0: 5982, 1: 5982})\n",
      "(11964, 11)\n",
      "(11964,)\n"
     ]
    }
   ],
   "source": [
    "# def upsample(features01, target01, repeat):\n",
    "#     features_zeros = features01[target01 == 0]\n",
    "#     features_ones = features01[target01 == 1]\n",
    "#     target_zeros = target01[target01 == 0]\n",
    "#     target_ones = target01[target01 == 1]\n",
    "\n",
    "#     features_upsampled = pd.concat([features_zeros] + [features_ones] * repeat)\n",
    "#     target_upsampled = pd.concat([target_zeros] + [target_ones] * repeat)\n",
    "\n",
    "#     features_upsampled, target_upsampled = shuffle(\n",
    "#         features_upsampled, target_upsampled, random_state=12345\n",
    "#     )\n",
    "#     return features_upsampled, target_upsampled\n",
    "\n",
    "# def subsample(features01, target01, fraction):\n",
    "#     features_zeros = features01[target01 == 0]\n",
    "#     features_ones = features01[target01 == 1]\n",
    "#     target_zeros = target01[target01 == 0]\n",
    "#     target_ones = target01[target01 == 1]\n",
    "\n",
    "#     features_downsampled = pd.concat(\n",
    "#         [features_zeros.sample(frac=fraction, random_state=12345)]\n",
    "#         + [features_ones]\n",
    "#     )    \n",
    "#     target_downsampled = pd.concat(\n",
    "#         [features_zeros.sample(frac=fraction, random_state=12345)]\n",
    "#         + [features_ones]\n",
    "#     )    \n",
    "\n",
    "# features_upsampled, target_upsampled = upsample(\n",
    "#     features_train, target_train, 2\n",
    "# )\n",
    "\n",
    "counter = Counter(target_train)\n",
    "print(counter)\n",
    "\n",
    "oversample = SMOTE()\n",
    "features_train, target_train = oversample.fit_resample(features_train, target_train)\n",
    "counter = Counter(target_train)\n",
    "\n",
    "print(counter)\n",
    "print(features_train.shape)\n",
    "print(target_train.shape)\n"
   ]
  },
  {
   "cell_type": "markdown",
   "metadata": {},
   "source": [
    "Utilizamos Synthetic Minority Oversampling Technique (SMOTE) para balancear las muestras, de esta esta forma evitamos duplicar datos con upsampling o eliminar datos importantes con downsampling "
   ]
  },
  {
   "cell_type": "markdown",
   "metadata": {},
   "source": [
    "## ENTRENAMIENTO DEL MEJOR MODELO\n"
   ]
  },
  {
   "cell_type": "markdown",
   "metadata": {},
   "source": [
    "Mejor modelo de random forest, logistic regression o decision tree clasifier"
   ]
  },
  {
   "cell_type": "code",
   "execution_count": 44,
   "metadata": {},
   "outputs": [
    {
     "name": "stdout",
     "output_type": "stream",
     "text": [
      "Mejores hiperparámetros: {'max_depth': None, 'n_estimators': 260}\n",
      "Score F1 0.6420233463035019\n"
     ]
    }
   ],
   "source": [
    "\n",
    "# Crear un modelo de Random Forest\n",
    "rf_classifier = RandomForestClassifier()\n",
    "\n",
    "# Cuadrícula de hiperparámetros para la búsqueda\n",
    "param_grid = {\n",
    "    'n_estimators': range(10, 500, 50),\n",
    "    'max_depth': [None, 8 , 10, 20]\n",
    "}\n",
    "\n",
    "# Búsqueda de hiperparámetros\n",
    "grid_search_final = GridSearchCV(estimator=rf_classifier, param_grid=param_grid, cv=5)\n",
    "grid_search_final.fit(features_train, target_train)\n",
    "\n",
    "#Entrenamiento con los mejores hiperparámetros\n",
    "model = grid_search_final.best_estimator_\n",
    "predictions = model.predict(features_valid)\n",
    "f1 = f1_score(target_valid, predictions)\n",
    "\n",
    "print(\"Mejores hiperparámetros:\", grid_search_final.best_params_)\n",
    "print(\"Score F1\", f1)\n",
    "#Mejores hiperparámetros: {'max_depth': None, 'n_estimators': 500}\n",
    "#Score F1 0.6310679611650486"
   ]
  },
  {
   "cell_type": "code",
   "execution_count": 45,
   "metadata": {},
   "outputs": [
    {
     "name": "stdout",
     "output_type": "stream",
     "text": [
      "Mejores hiperparámetros: {'C': 0.01, 'class_weight': 'balanced', 'penalty': 'l1', 'solver': 'liblinear'}\n",
      "F1: 0.49056603773584906\n"
     ]
    }
   ],
   "source": [
    "logreg = LogisticRegression()\n",
    "\n",
    "# Definir la cuadrícula de hiperparámetros para la búsqueda\n",
    "param_grid = {\n",
    "    'penalty': ['l1', 'l2'],\n",
    "    'C': [0.001, 0.01, 0.1, 1, 10, 100],\n",
    "    'solver': ['liblinear'],\n",
    "    'class_weight': ['balanced']\n",
    "}\n",
    "\n",
    "# Búsqueda de hiperparámetros\n",
    "grid_search = GridSearchCV(estimator=logreg, param_grid=param_grid, cv=5)\n",
    "grid_search.fit(features_train, target_train)\n",
    "\n",
    "#Entrenamiento con los mejores hiperparámetros\n",
    "model = grid_search.best_estimator_\n",
    "predictions = model.predict(features_valid)\n",
    "f1 = f1_score(target_valid, predictions)\n",
    "\n",
    "print(\"Mejores hiperparámetros:\", grid_search.best_params_)\n",
    "print(\"F1:\", f1)\n",
    "#Mejores hiperparámetros: {'C': 0.01, 'class_weight': 'balanced', 'penalty': 'l2', 'solver': 'liblinear'}\n",
    "#F1: 0.4816678648454349\n"
   ]
  },
  {
   "cell_type": "code",
   "execution_count": 46,
   "metadata": {},
   "outputs": [
    {
     "name": "stdout",
     "output_type": "stream",
     "text": [
      "Mejores hiperparámetros: {'criterion': 'entropy', 'max_depth': None, 'min_samples_leaf': 1, 'min_samples_split': 2}\n",
      "F1: 0.5232660228270413\n"
     ]
    }
   ],
   "source": [
    "# Crear un modelo de Decision Tree\n",
    "tree_classifier = DecisionTreeClassifier()\n",
    "\n",
    "# Definir la cuadrícula de hiperparámetros para la búsqueda\n",
    "param_grid = {\n",
    "    'criterion': ['gini', 'entropy'],\n",
    "    'max_depth': [None, 5, 10, 15],\n",
    "    'min_samples_split': [2, 5, 10],\n",
    "    'min_samples_leaf': [1, 2, 4]\n",
    "}\n",
    "\n",
    "# Realizar una búsqueda en cuadrícula\n",
    "grid_search = GridSearchCV(estimator=tree_classifier, param_grid=param_grid, cv=5,)\n",
    "grid_search.fit(features_train, target_train)\n",
    "\n",
    "#Entrenamiento con los mejores hiperparámetros\n",
    "model = grid_search.best_estimator_\n",
    "predictions = model.predict(features_valid)\n",
    "f1 = f1_score(target_valid, predictions)\n",
    "\n",
    "print(\"Mejores hiperparámetros:\", grid_search.best_params_)\n",
    "print(\"F1:\", f1)\n",
    "#Mejores hiperparámetros: {'criterion': 'gini', 'max_depth': 15, 'min_samples_leaf': 1, 'min_samples_split': 2}\n",
    "#F1: 0.5164737310774711"
   ]
  },
  {
   "cell_type": "markdown",
   "metadata": {},
   "source": [
    "El mejor modelo que pudimos encontrar fue un random forest con un f1 score de 0.63"
   ]
  },
  {
   "cell_type": "markdown",
   "metadata": {},
   "source": [
    "<div class=\"alert alert-block alert-danger\">\n",
    "<b>Comentario del revisor</b> <a class=\"tocSkip\"></a>\n",
    "    \n",
    "Debemos trabajar en esta sección:\n",
    "    \n",
    "1. Hay que probar varios modelos (árboles, random forest y regresión logística)\n",
    "2. Para cada modelo hay que realizar una optimización de hiperparámetros.\n",
    "3. Debemos probar dos metodologías de balanceo de clases.\n",
    "\n",
    "Al final tendremos una serie de modelos y habrá que escoger el mejor con base en la métrica obtenida en validación.\n",
    "</div>"
   ]
  },
  {
   "cell_type": "markdown",
   "metadata": {},
   "source": [
    "## VALIDACION Y PRUEBAS FINALES"
   ]
  },
  {
   "cell_type": "markdown",
   "metadata": {},
   "source": [
    "### Grafico de ROC para nuestro modelo final"
   ]
  },
  {
   "cell_type": "code",
   "execution_count": 47,
   "metadata": {},
   "outputs": [
    {
     "name": "stdout",
     "output_type": "stream",
     "text": [
      "F1: 0.6423777564717162\n"
     ]
    }
   ],
   "source": [
    "\n",
    "hiperparámetros = {'max_depth': None, 'n_estimators': 210}\n",
    "\n",
    "model = RandomForestClassifier(random_state=12345, n_estimators=210)\n",
    "model.fit(features_train, target_train)\n",
    "probabilities = model.predict(features_valid)\n",
    "\n",
    "f1 = f1_score(target_valid, probabilities)\n",
    "print(\"F1:\", f1)"
   ]
  },
  {
   "cell_type": "code",
   "execution_count": 53,
   "metadata": {},
   "outputs": [
    {
     "name": "stdout",
     "output_type": "stream",
     "text": [
      "[[0.82380952 0.17619048]\n",
      " [0.97142857 0.02857143]\n",
      " [0.9        0.1       ]\n",
      " ...\n",
      " [0.97142857 0.02857143]\n",
      " [0.89047619 0.10952381]\n",
      " [0.88095238 0.11904762]]\n"
     ]
    },
    {
     "data": {
      "application/vnd.plotly.v1+json": {
       "config": {
        "plotlyServerURL": "https://plot.ly"
       },
       "data": [
        {
         "hovertemplate": "Tasa de falsos positivos=%{x}<br>Tasa de verdaderos positivos=%{y}<extra></extra>",
         "legendgroup": "",
         "line": {
          "color": "#636efa",
          "dash": "solid"
         },
         "marker": {
          "symbol": "circle"
         },
         "mode": "lines",
         "name": "",
         "orientation": "v",
         "showlegend": false,
         "type": "scatter",
         "x": [
          0,
          0,
          0,
          0.0005047955577990914,
          0.0005047955577990914,
          0.0005047955577990914,
          0.0005047955577990914,
          0.0010095911155981827,
          0.0010095911155981827,
          0.001514386673397274,
          0.0020191822311963654,
          0.002523977788995457,
          0.002523977788995457,
          0.002523977788995457,
          0.003028773346794548,
          0.003028773346794548,
          0.003028773346794548,
          0.0035335689045936395,
          0.004038364462392731,
          0.004038364462392731,
          0.004038364462392731,
          0.004038364462392731,
          0.004038364462392731,
          0.004038364462392731,
          0.004038364462392731,
          0.004543160020191822,
          0.004543160020191822,
          0.004543160020191822,
          0.005552751135790005,
          0.007067137809187279,
          0.007067137809187279,
          0.00757193336698637,
          0.00757193336698637,
          0.008076728924785462,
          0.008581524482584554,
          0.008581524482584554,
          0.009591115598182737,
          0.01060070671378092,
          0.012115093387178193,
          0.012115093387178193,
          0.012619888944977285,
          0.013629480060575468,
          0.01463907117617365,
          0.016153457849570924,
          0.017163048965169108,
          0.01867743563856638,
          0.019182231196365473,
          0.020191822311963654,
          0.020696617869762745,
          0.02120141342756184,
          0.02120141342756184,
          0.02120141342756184,
          0.02221100454316002,
          0.02221100454316002,
          0.02271580010095911,
          0.023725391216557295,
          0.02523977788995457,
          0.02675416456335184,
          0.02675416456335184,
          0.027763755678950026,
          0.02978293791014639,
          0.03180212014134275,
          0.03281171125694094,
          0.03281171125694094,
          0.03281171125694094,
          0.03382130237253912,
          0.034326097930338216,
          0.038869257950530034,
          0.03937405350832913,
          0.041898031297324584,
          0.042907622412922765,
          0.04543160020191822,
          0.04745078243311459,
          0.04795557799091368,
          0.04795557799091368,
          0.048965169106511865,
          0.04946996466431095,
          0.05148914689550732,
          0.0524987380111055,
          0.0524987380111055,
          0.05502271580010096,
          0.05754669358909641,
          0.06057546693589096,
          0.0636042402826855,
          0.06663301362948006,
          0.06764260474507824,
          0.0696617869762746,
          0.07420494699646643,
          0.07622412922766279,
          0.07773851590106007,
          0.07874810701665826,
          0.08228167592125189,
          0.08430085815244825,
          0.08480565371024736,
          0.0873296314992428,
          0.08884401817264008,
          0.09187279151943463,
          0.09439676930843009,
          0.09540636042402827,
          0.09641595153962645,
          0.099444724886421,
          0.10297829379101464,
          0.104997476022211,
          0.10802624936900555,
          0.11004543160020192,
          0.11610297829379101,
          0.1166077738515901,
          0.11761736496718829,
          0.12064613831398284,
          0.12165572942958101,
          0.12367491166077739,
          0.12821807168096921,
          0.13074204946996468,
          0.13276123170116103,
          0.1352852094901565,
          0.1352852094901565,
          0.13730439172135286,
          0.1408379606259465,
          0.1453811206461383,
          0.15446744068652196,
          0.1580010095911156,
          0.16203937405350832,
          0.16506814740030287,
          0.17112569409389197,
          0.1746592629984856,
          0.1812216052498738,
          0.18576476527006563,
          0.18879353861686018,
          0.19232710752145382,
          0.1983846542150429,
          0.20141342756183744,
          0.2054517920242302,
          0.209994952044422,
          0.21403331650681473,
          0.22009086320040383,
          0.22412922766279655,
          0.22766279656739022,
          0.2337203432609793,
          0.2392730943967693,
          0.24381625441696114,
          0.25037859666834933,
          0.25340737001514385,
          0.25896012115093386,
          0.26804644119131754,
          0.27713276123170116,
          0.28369510348308935,
          0.2882382635032812,
          0.29328621908127206,
          0.30136294800605756,
          0.31095406360424027,
          0.31751640585562846,
          0.32609793033821305,
          0.331650681474003,
          0.3377082281675921,
          0.3447753659767794,
          0.3568904593639576,
          0.3619384149419485,
          0.37001514386673395,
          0.3796062594649167,
          0.3897021706208985,
          0.3967693084300858,
          0.408884401817264,
          0.414437152953054,
          0.4194851085310449,
          0.4316002019182231,
          0.44270570418980315,
          0.4512872286723877,
          0.45936395759717313,
          0.4679454820797577,
          0.47602221100454317,
          0.48611812216052497,
          0.4977284199899041,
          0.5042907622412923,
          0.5148914689550732,
          0.5290257445734478,
          0.5365976779404341,
          0.5502271580010096,
          0.563351842503786,
          0.5749621403331651,
          0.5880868248359414,
          0.602221100454316,
          0.6163553760726905,
          0.6289752650176679,
          0.6486622917718324,
          0.6638061585058052,
          0.6769308430085815,
          0.6971226653205452,
          0.7082281675921251,
          0.7253912165572943,
          0.7440686521958607,
          0.7672892478546188,
          0.784957092377587,
          0.8001009591115599,
          0.8268551236749117,
          0.8485613326602726,
          0.8687531549722363,
          0.8939929328621908,
          0.9111559818273599,
          0.9318525996971226,
          0.9550731953558809,
          0.9914184755174155,
          1
         ],
         "xaxis": "x",
         "y": [
          0,
          0.0019267822736030828,
          0.0038535645472061657,
          0.005780346820809248,
          0.007707129094412331,
          0.011560693641618497,
          0.01348747591522158,
          0.017341040462427744,
          0.023121387283236993,
          0.025048169556840076,
          0.030828516377649325,
          0.04431599229287091,
          0.05009633911368015,
          0.06165703275529865,
          0.07321772639691715,
          0.08092485549132948,
          0.0905587668593449,
          0.10597302504816955,
          0.11753371868978806,
          0.1252408477842004,
          0.1348747591522158,
          0.14258188824662812,
          0.15606936416184972,
          0.1579961464354528,
          0.1676300578034682,
          0.1676300578034682,
          0.16955684007707128,
          0.1811175337186898,
          0.2119460500963391,
          0.21965317919075145,
          0.23121387283236994,
          0.2350674373795761,
          0.24855491329479767,
          0.26011560693641617,
          0.2697495183044316,
          0.279383429672447,
          0.2832369942196532,
          0.302504816955684,
          0.3063583815028902,
          0.3198458574181118,
          0.3236994219653179,
          0.32755298651252407,
          0.3333333333333333,
          0.3371868978805395,
          0.3448940269749518,
          0.35452793834296725,
          0.35452793834296725,
          0.36608863198458574,
          0.3699421965317919,
          0.371868978805395,
          0.3737957610789981,
          0.37764932562620424,
          0.3815028901734104,
          0.3872832369942196,
          0.3930635838150289,
          0.4007707129094412,
          0.40655105973025046,
          0.42003853564547206,
          0.4238921001926782,
          0.4393063583815029,
          0.441233140655106,
          0.44508670520231214,
          0.4489402697495183,
          0.4527938342967245,
          0.464354527938343,
          0.4682080924855491,
          0.47591522157996147,
          0.4797687861271676,
          0.4913294797687861,
          0.49903660886319845,
          0.5048169556840078,
          0.5067437379576107,
          0.5067437379576107,
          0.5105973025048169,
          0.5144508670520231,
          0.5183044315992292,
          0.5279383429672447,
          0.535645472061657,
          0.5375722543352601,
          0.5433526011560693,
          0.5491329479768786,
          0.5529865125240848,
          0.558766859344894,
          0.5606936416184971,
          0.5722543352601156,
          0.5761078998073218,
          0.581888246628131,
          0.5876685934489403,
          0.5895953757225434,
          0.5934489402697495,
          0.6011560693641619,
          0.603082851637765,
          0.6069364161849711,
          0.6184971098265896,
          0.6242774566473989,
          0.628131021194605,
          0.6319845857418112,
          0.6377649325626205,
          0.6454720616570327,
          0.6473988439306358,
          0.6473988439306358,
          0.649325626204239,
          0.653179190751445,
          0.6551059730250481,
          0.6570327552986512,
          0.6589595375722543,
          0.6628131021194605,
          0.6705202312138728,
          0.674373795761079,
          0.6763005780346821,
          0.6763005780346821,
          0.6763005780346821,
          0.6782273603082851,
          0.6878612716763006,
          0.6917148362235067,
          0.6994219653179191,
          0.7032755298651252,
          0.7090558766859345,
          0.7109826589595376,
          0.7167630057803468,
          0.7225433526011561,
          0.7263969171483622,
          0.7360308285163777,
          0.7379576107899807,
          0.7418111753371869,
          0.7475915221579962,
          0.7495183044315993,
          0.7533718689788054,
          0.7572254335260116,
          0.7649325626204239,
          0.7687861271676301,
          0.7745664739884393,
          0.7803468208092486,
          0.7861271676300579,
          0.7938342967244701,
          0.7996146435452793,
          0.8034682080924855,
          0.8034682080924855,
          0.8092485549132948,
          0.8131021194605009,
          0.815028901734104,
          0.8188824662813102,
          0.8227360308285164,
          0.8246628131021194,
          0.8285163776493256,
          0.8362235067437379,
          0.8400770712909441,
          0.8420038535645472,
          0.8420038535645472,
          0.8439306358381503,
          0.8439306358381503,
          0.8439306358381503,
          0.8477842003853564,
          0.8535645472061657,
          0.8554913294797688,
          0.8574181117533719,
          0.8709055876685935,
          0.8728323699421965,
          0.8805394990366089,
          0.884393063583815,
          0.8921001926782274,
          0.8978805394990366,
          0.8978805394990366,
          0.8998073217726397,
          0.9017341040462428,
          0.905587668593449,
          0.9075144508670521,
          0.9094412331406551,
          0.9171483622350675,
          0.9248554913294798,
          0.930635838150289,
          0.9344894026974951,
          0.9364161849710982,
          0.9383429672447013,
          0.9402697495183044,
          0.9460500963391136,
          0.9479768786127167,
          0.9518304431599229,
          0.9518304431599229,
          0.9556840077071291,
          0.9576107899807321,
          0.9633911368015414,
          0.9653179190751445,
          0.9691714836223507,
          0.9710982658959537,
          0.9730250481695568,
          0.976878612716763,
          0.9807321772639692,
          0.9826589595375722,
          0.9865125240847784,
          0.9884393063583815,
          0.9961464354527938,
          0.9980732177263969,
          0.9980732177263969,
          0.9980732177263969,
          1,
          1,
          1,
          1,
          1,
          1,
          1
         ],
         "yaxis": "y"
        }
       ],
       "layout": {
        "height": 450,
        "legend": {
         "tracegroupgap": 0
        },
        "shapes": [
         {
          "line": {
           "dash": "dash"
          },
          "type": "line",
          "x0": 0,
          "x1": 1,
          "y0": 0,
          "y1": 1
         }
        ],
        "template": {
         "data": {
          "bar": [
           {
            "error_x": {
             "color": "#2a3f5f"
            },
            "error_y": {
             "color": "#2a3f5f"
            },
            "marker": {
             "line": {
              "color": "#E5ECF6",
              "width": 0.5
             },
             "pattern": {
              "fillmode": "overlay",
              "size": 10,
              "solidity": 0.2
             }
            },
            "type": "bar"
           }
          ],
          "barpolar": [
           {
            "marker": {
             "line": {
              "color": "#E5ECF6",
              "width": 0.5
             },
             "pattern": {
              "fillmode": "overlay",
              "size": 10,
              "solidity": 0.2
             }
            },
            "type": "barpolar"
           }
          ],
          "carpet": [
           {
            "aaxis": {
             "endlinecolor": "#2a3f5f",
             "gridcolor": "white",
             "linecolor": "white",
             "minorgridcolor": "white",
             "startlinecolor": "#2a3f5f"
            },
            "baxis": {
             "endlinecolor": "#2a3f5f",
             "gridcolor": "white",
             "linecolor": "white",
             "minorgridcolor": "white",
             "startlinecolor": "#2a3f5f"
            },
            "type": "carpet"
           }
          ],
          "choropleth": [
           {
            "colorbar": {
             "outlinewidth": 0,
             "ticks": ""
            },
            "type": "choropleth"
           }
          ],
          "contour": [
           {
            "colorbar": {
             "outlinewidth": 0,
             "ticks": ""
            },
            "colorscale": [
             [
              0,
              "#0d0887"
             ],
             [
              0.1111111111111111,
              "#46039f"
             ],
             [
              0.2222222222222222,
              "#7201a8"
             ],
             [
              0.3333333333333333,
              "#9c179e"
             ],
             [
              0.4444444444444444,
              "#bd3786"
             ],
             [
              0.5555555555555556,
              "#d8576b"
             ],
             [
              0.6666666666666666,
              "#ed7953"
             ],
             [
              0.7777777777777778,
              "#fb9f3a"
             ],
             [
              0.8888888888888888,
              "#fdca26"
             ],
             [
              1,
              "#f0f921"
             ]
            ],
            "type": "contour"
           }
          ],
          "contourcarpet": [
           {
            "colorbar": {
             "outlinewidth": 0,
             "ticks": ""
            },
            "type": "contourcarpet"
           }
          ],
          "heatmap": [
           {
            "colorbar": {
             "outlinewidth": 0,
             "ticks": ""
            },
            "colorscale": [
             [
              0,
              "#0d0887"
             ],
             [
              0.1111111111111111,
              "#46039f"
             ],
             [
              0.2222222222222222,
              "#7201a8"
             ],
             [
              0.3333333333333333,
              "#9c179e"
             ],
             [
              0.4444444444444444,
              "#bd3786"
             ],
             [
              0.5555555555555556,
              "#d8576b"
             ],
             [
              0.6666666666666666,
              "#ed7953"
             ],
             [
              0.7777777777777778,
              "#fb9f3a"
             ],
             [
              0.8888888888888888,
              "#fdca26"
             ],
             [
              1,
              "#f0f921"
             ]
            ],
            "type": "heatmap"
           }
          ],
          "heatmapgl": [
           {
            "colorbar": {
             "outlinewidth": 0,
             "ticks": ""
            },
            "colorscale": [
             [
              0,
              "#0d0887"
             ],
             [
              0.1111111111111111,
              "#46039f"
             ],
             [
              0.2222222222222222,
              "#7201a8"
             ],
             [
              0.3333333333333333,
              "#9c179e"
             ],
             [
              0.4444444444444444,
              "#bd3786"
             ],
             [
              0.5555555555555556,
              "#d8576b"
             ],
             [
              0.6666666666666666,
              "#ed7953"
             ],
             [
              0.7777777777777778,
              "#fb9f3a"
             ],
             [
              0.8888888888888888,
              "#fdca26"
             ],
             [
              1,
              "#f0f921"
             ]
            ],
            "type": "heatmapgl"
           }
          ],
          "histogram": [
           {
            "marker": {
             "pattern": {
              "fillmode": "overlay",
              "size": 10,
              "solidity": 0.2
             }
            },
            "type": "histogram"
           }
          ],
          "histogram2d": [
           {
            "colorbar": {
             "outlinewidth": 0,
             "ticks": ""
            },
            "colorscale": [
             [
              0,
              "#0d0887"
             ],
             [
              0.1111111111111111,
              "#46039f"
             ],
             [
              0.2222222222222222,
              "#7201a8"
             ],
             [
              0.3333333333333333,
              "#9c179e"
             ],
             [
              0.4444444444444444,
              "#bd3786"
             ],
             [
              0.5555555555555556,
              "#d8576b"
             ],
             [
              0.6666666666666666,
              "#ed7953"
             ],
             [
              0.7777777777777778,
              "#fb9f3a"
             ],
             [
              0.8888888888888888,
              "#fdca26"
             ],
             [
              1,
              "#f0f921"
             ]
            ],
            "type": "histogram2d"
           }
          ],
          "histogram2dcontour": [
           {
            "colorbar": {
             "outlinewidth": 0,
             "ticks": ""
            },
            "colorscale": [
             [
              0,
              "#0d0887"
             ],
             [
              0.1111111111111111,
              "#46039f"
             ],
             [
              0.2222222222222222,
              "#7201a8"
             ],
             [
              0.3333333333333333,
              "#9c179e"
             ],
             [
              0.4444444444444444,
              "#bd3786"
             ],
             [
              0.5555555555555556,
              "#d8576b"
             ],
             [
              0.6666666666666666,
              "#ed7953"
             ],
             [
              0.7777777777777778,
              "#fb9f3a"
             ],
             [
              0.8888888888888888,
              "#fdca26"
             ],
             [
              1,
              "#f0f921"
             ]
            ],
            "type": "histogram2dcontour"
           }
          ],
          "mesh3d": [
           {
            "colorbar": {
             "outlinewidth": 0,
             "ticks": ""
            },
            "type": "mesh3d"
           }
          ],
          "parcoords": [
           {
            "line": {
             "colorbar": {
              "outlinewidth": 0,
              "ticks": ""
             }
            },
            "type": "parcoords"
           }
          ],
          "pie": [
           {
            "automargin": true,
            "type": "pie"
           }
          ],
          "scatter": [
           {
            "fillpattern": {
             "fillmode": "overlay",
             "size": 10,
             "solidity": 0.2
            },
            "type": "scatter"
           }
          ],
          "scatter3d": [
           {
            "line": {
             "colorbar": {
              "outlinewidth": 0,
              "ticks": ""
             }
            },
            "marker": {
             "colorbar": {
              "outlinewidth": 0,
              "ticks": ""
             }
            },
            "type": "scatter3d"
           }
          ],
          "scattercarpet": [
           {
            "marker": {
             "colorbar": {
              "outlinewidth": 0,
              "ticks": ""
             }
            },
            "type": "scattercarpet"
           }
          ],
          "scattergeo": [
           {
            "marker": {
             "colorbar": {
              "outlinewidth": 0,
              "ticks": ""
             }
            },
            "type": "scattergeo"
           }
          ],
          "scattergl": [
           {
            "marker": {
             "colorbar": {
              "outlinewidth": 0,
              "ticks": ""
             }
            },
            "type": "scattergl"
           }
          ],
          "scattermapbox": [
           {
            "marker": {
             "colorbar": {
              "outlinewidth": 0,
              "ticks": ""
             }
            },
            "type": "scattermapbox"
           }
          ],
          "scatterpolar": [
           {
            "marker": {
             "colorbar": {
              "outlinewidth": 0,
              "ticks": ""
             }
            },
            "type": "scatterpolar"
           }
          ],
          "scatterpolargl": [
           {
            "marker": {
             "colorbar": {
              "outlinewidth": 0,
              "ticks": ""
             }
            },
            "type": "scatterpolargl"
           }
          ],
          "scatterternary": [
           {
            "marker": {
             "colorbar": {
              "outlinewidth": 0,
              "ticks": ""
             }
            },
            "type": "scatterternary"
           }
          ],
          "surface": [
           {
            "colorbar": {
             "outlinewidth": 0,
             "ticks": ""
            },
            "colorscale": [
             [
              0,
              "#0d0887"
             ],
             [
              0.1111111111111111,
              "#46039f"
             ],
             [
              0.2222222222222222,
              "#7201a8"
             ],
             [
              0.3333333333333333,
              "#9c179e"
             ],
             [
              0.4444444444444444,
              "#bd3786"
             ],
             [
              0.5555555555555556,
              "#d8576b"
             ],
             [
              0.6666666666666666,
              "#ed7953"
             ],
             [
              0.7777777777777778,
              "#fb9f3a"
             ],
             [
              0.8888888888888888,
              "#fdca26"
             ],
             [
              1,
              "#f0f921"
             ]
            ],
            "type": "surface"
           }
          ],
          "table": [
           {
            "cells": {
             "fill": {
              "color": "#EBF0F8"
             },
             "line": {
              "color": "white"
             }
            },
            "header": {
             "fill": {
              "color": "#C8D4E3"
             },
             "line": {
              "color": "white"
             }
            },
            "type": "table"
           }
          ]
         },
         "layout": {
          "annotationdefaults": {
           "arrowcolor": "#2a3f5f",
           "arrowhead": 0,
           "arrowwidth": 1
          },
          "autotypenumbers": "strict",
          "coloraxis": {
           "colorbar": {
            "outlinewidth": 0,
            "ticks": ""
           }
          },
          "colorscale": {
           "diverging": [
            [
             0,
             "#8e0152"
            ],
            [
             0.1,
             "#c51b7d"
            ],
            [
             0.2,
             "#de77ae"
            ],
            [
             0.3,
             "#f1b6da"
            ],
            [
             0.4,
             "#fde0ef"
            ],
            [
             0.5,
             "#f7f7f7"
            ],
            [
             0.6,
             "#e6f5d0"
            ],
            [
             0.7,
             "#b8e186"
            ],
            [
             0.8,
             "#7fbc41"
            ],
            [
             0.9,
             "#4d9221"
            ],
            [
             1,
             "#276419"
            ]
           ],
           "sequential": [
            [
             0,
             "#0d0887"
            ],
            [
             0.1111111111111111,
             "#46039f"
            ],
            [
             0.2222222222222222,
             "#7201a8"
            ],
            [
             0.3333333333333333,
             "#9c179e"
            ],
            [
             0.4444444444444444,
             "#bd3786"
            ],
            [
             0.5555555555555556,
             "#d8576b"
            ],
            [
             0.6666666666666666,
             "#ed7953"
            ],
            [
             0.7777777777777778,
             "#fb9f3a"
            ],
            [
             0.8888888888888888,
             "#fdca26"
            ],
            [
             1,
             "#f0f921"
            ]
           ],
           "sequentialminus": [
            [
             0,
             "#0d0887"
            ],
            [
             0.1111111111111111,
             "#46039f"
            ],
            [
             0.2222222222222222,
             "#7201a8"
            ],
            [
             0.3333333333333333,
             "#9c179e"
            ],
            [
             0.4444444444444444,
             "#bd3786"
            ],
            [
             0.5555555555555556,
             "#d8576b"
            ],
            [
             0.6666666666666666,
             "#ed7953"
            ],
            [
             0.7777777777777778,
             "#fb9f3a"
            ],
            [
             0.8888888888888888,
             "#fdca26"
            ],
            [
             1,
             "#f0f921"
            ]
           ]
          },
          "colorway": [
           "#636efa",
           "#EF553B",
           "#00cc96",
           "#ab63fa",
           "#FFA15A",
           "#19d3f3",
           "#FF6692",
           "#B6E880",
           "#FF97FF",
           "#FECB52"
          ],
          "font": {
           "color": "#2a3f5f"
          },
          "geo": {
           "bgcolor": "white",
           "lakecolor": "white",
           "landcolor": "#E5ECF6",
           "showlakes": true,
           "showland": true,
           "subunitcolor": "white"
          },
          "hoverlabel": {
           "align": "left"
          },
          "hovermode": "closest",
          "mapbox": {
           "style": "light"
          },
          "paper_bgcolor": "white",
          "plot_bgcolor": "#E5ECF6",
          "polar": {
           "angularaxis": {
            "gridcolor": "white",
            "linecolor": "white",
            "ticks": ""
           },
           "bgcolor": "#E5ECF6",
           "radialaxis": {
            "gridcolor": "white",
            "linecolor": "white",
            "ticks": ""
           }
          },
          "scene": {
           "xaxis": {
            "backgroundcolor": "#E5ECF6",
            "gridcolor": "white",
            "gridwidth": 2,
            "linecolor": "white",
            "showbackground": true,
            "ticks": "",
            "zerolinecolor": "white"
           },
           "yaxis": {
            "backgroundcolor": "#E5ECF6",
            "gridcolor": "white",
            "gridwidth": 2,
            "linecolor": "white",
            "showbackground": true,
            "ticks": "",
            "zerolinecolor": "white"
           },
           "zaxis": {
            "backgroundcolor": "#E5ECF6",
            "gridcolor": "white",
            "gridwidth": 2,
            "linecolor": "white",
            "showbackground": true,
            "ticks": "",
            "zerolinecolor": "white"
           }
          },
          "shapedefaults": {
           "line": {
            "color": "#2a3f5f"
           }
          },
          "ternary": {
           "aaxis": {
            "gridcolor": "white",
            "linecolor": "white",
            "ticks": ""
           },
           "baxis": {
            "gridcolor": "white",
            "linecolor": "white",
            "ticks": ""
           },
           "bgcolor": "#E5ECF6",
           "caxis": {
            "gridcolor": "white",
            "linecolor": "white",
            "ticks": ""
           }
          },
          "title": {
           "x": 0.05
          },
          "xaxis": {
           "automargin": true,
           "gridcolor": "white",
           "linecolor": "white",
           "ticks": "",
           "title": {
            "standoff": 15
           },
           "zerolinecolor": "white",
           "zerolinewidth": 2
          },
          "yaxis": {
           "automargin": true,
           "gridcolor": "white",
           "linecolor": "white",
           "ticks": "",
           "title": {
            "standoff": 15
           },
           "zerolinecolor": "white",
           "zerolinewidth": 2
          }
         }
        },
        "title": {
         "text": "Curva ROC"
        },
        "width": 800,
        "xaxis": {
         "anchor": "y",
         "domain": [
          0,
          1
         ],
         "title": {
          "text": "Tasa de falsos positivos"
         }
        },
        "yaxis": {
         "anchor": "x",
         "domain": [
          0,
          1
         ],
         "title": {
          "text": "Tasa de verdaderos positivos"
         }
        }
       }
      }
     },
     "metadata": {},
     "output_type": "display_data"
    }
   ],
   "source": [
    "\n",
    "\n",
    "#verfificamos las metricas del modelo\n",
    "probabilities = model.predict_proba(features_valid)\n",
    "\n",
    "probabilities_one = probabilities[:, 1]\n",
    "\n",
    "\n",
    "#Utilizamos la funcion roc_curve que nos dará las tasas de verdaderos y falsos positivos\n",
    "fpr, tpr, thresholds = roc_curve(target_valid, probabilities_one)  \n",
    "\n",
    "#Graficamos la curva ROC\n",
    "roc_data = {\"FPR\": fpr, \"TPR\": tpr}\n",
    "df_roc = pd.DataFrame(roc_data)\n",
    "\n",
    "fig = px.line(\n",
    "    df_roc,\n",
    "    x=\"FPR\",\n",
    "    y=\"TPR\",\n",
    "    labels={\"FPR\": \"Tasa de falsos positivos\", \"TPR\": \"Tasa de verdaderos positivos\"},\n",
    "    title=\"Curva ROC\",\n",
    ")\n",
    "\n",
    "# Agregar una línea diagonal que representa el modelo aleatorio\n",
    "fig.add_shape(type=\"line\", line=dict(dash=\"dash\"), x0=0, x1=1, y0=0, y1=1)\n",
    "fig.update_layout(\n",
    "    width=800,  \n",
    "    height=450\n",
    ")\n",
    "# Mostrar la figura\n",
    "fig.show()"
   ]
  },
  {
   "cell_type": "markdown",
   "metadata": {},
   "source": [
    "## CONCLUSIÓN"
   ]
  },
  {
   "cell_type": "markdown",
   "metadata": {},
   "source": [
    "\n",
    "En este  se abordó la tarea de predecir la posible salida de clientes utilizando datos históricos. Se realizó una cuidadosa preparación de datos, se exploró el desequilibrio de clases y se entrenaron modelos, alcanzando un valor F1 de al menos 0.59 en el conjunto de prueba. Se implementaron estrategias efectivas para corregir el desequilibrio y se evaluó el rendimiento del modelo utilizando tanto F1 como AUC-ROC. El proyecto cumple con los criterios de evaluación, destacando la capacidad para abordar desafíos de desequilibrio de clases y lograr un rendimiento sólido del modelo."
   ]
  },
  {
   "cell_type": "markdown",
   "metadata": {},
   "source": [
    "<div class=\"alert alert-block alert-danger\">\n",
    "    \n",
    "# Comentarios generales\n",
    "<b>Comentario del revisor</b> <a class=\"tocSkip\"></a>\n",
    "    \n",
    "Hola, Jorge. Tenemos que trabajar un poco más en el proyecto antes de poder aprobarlo. He dejado comentarios a lo largo del documento para ello.\n",
    "</div>"
   ]
  }
 ],
 "metadata": {
  "kernelspec": {
   "display_name": "Python 3 (ipykernel)",
   "language": "python",
   "name": "python3"
  },
  "language_info": {
   "codemirror_mode": {
    "name": "ipython",
    "version": 3
   },
   "file_extension": ".py",
   "mimetype": "text/x-python",
   "name": "python",
   "nbconvert_exporter": "python",
   "pygments_lexer": "ipython3",
   "version": "3.12.0"
  },
  "toc": {
   "base_numbering": 1,
   "nav_menu": {},
   "number_sections": true,
   "sideBar": true,
   "skip_h1_title": true,
   "title_cell": "Table of Contents",
   "title_sidebar": "Contents",
   "toc_cell": false,
   "toc_position": {},
   "toc_section_display": true,
   "toc_window_display": false
  }
 },
 "nbformat": 4,
 "nbformat_minor": 2
}
